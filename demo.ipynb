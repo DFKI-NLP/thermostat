{
 "cells": [
  {
   "cell_type": "markdown",
   "metadata": {},
   "source": [
    "# Thermostat demo"
   ]
  },
  {
   "cell_type": "code",
   "execution_count": 1,
   "metadata": {},
   "outputs": [],
   "source": [
    "import warnings\n",
    "# Suppress warnings\n",
    "warnings.filterwarnings('ignore')"
   ]
  },
  {
   "cell_type": "code",
   "execution_count": 2,
   "metadata": {},
   "outputs": [
    {
     "name": "stdout",
     "output_type": "stream",
     "text": [
      "Defaulting to user installation because normal site-packages is not writeable\n",
      "Requirement already satisfied: pip in /home/nfel/.local/lib/python3.6/site-packages (21.1.2)\n",
      "Defaulting to user installation because normal site-packages is not writeable\n",
      "Requirement already satisfied: cmake in /home/nfel/.local/lib/python3.6/site-packages (3.20.3)\n",
      "Defaulting to user installation because normal site-packages is not writeable\n",
      "Requirement already satisfied: cython in /home/nfel/.local/lib/python3.6/site-packages (0.29.23)\n",
      "Defaulting to user installation because normal site-packages is not writeable\n",
      "Requirement already satisfied: numpy in /home/nfel/.local/lib/python3.6/site-packages (1.19.5)\n",
      "Defaulting to user installation because normal site-packages is not writeable\n",
      "Requirement already satisfied: torch in /home/nfel/.local/lib/python3.6/site-packages (1.9.0)\n",
      "Requirement already satisfied: typing-extensions in /home/nfel/.local/lib/python3.6/site-packages (from torch) (3.10.0.0)\n",
      "Requirement already satisfied: dataclasses in /home/nfel/.local/lib/python3.6/site-packages (from torch) (0.8)\n",
      "Defaulting to user installation because normal site-packages is not writeable\n",
      "Requirement already satisfied: datasets in /home/nfel/.local/lib/python3.6/site-packages (1.8.0)\n",
      "Requirement already satisfied: fsspec in /home/nfel/.local/lib/python3.6/site-packages (from datasets) (2021.6.0)\n",
      "Requirement already satisfied: tqdm<4.50.0,>=4.27 in /home/nfel/.local/lib/python3.6/site-packages (from datasets) (4.49.0)\n",
      "Requirement already satisfied: numpy>=1.17 in /home/nfel/.local/lib/python3.6/site-packages (from datasets) (1.19.5)\n",
      "Requirement already satisfied: dataclasses in /home/nfel/.local/lib/python3.6/site-packages (from datasets) (0.8)\n",
      "Requirement already satisfied: pyarrow<4.0.0,>=1.0.0 in /home/nfel/.local/lib/python3.6/site-packages (from datasets) (3.0.0)\n",
      "Requirement already satisfied: requests>=2.19.0 in /home/nfel/.local/lib/python3.6/site-packages (from datasets) (2.25.1)\n",
      "Requirement already satisfied: huggingface-hub<0.1.0 in /home/nfel/.local/lib/python3.6/site-packages (from datasets) (0.0.8)\n",
      "Requirement already satisfied: packaging in /home/nfel/.local/lib/python3.6/site-packages (from datasets) (20.9)\n",
      "Requirement already satisfied: importlib-metadata in /home/nfel/.local/lib/python3.6/site-packages (from datasets) (4.5.0)\n",
      "Requirement already satisfied: pandas in /home/nfel/.local/lib/python3.6/site-packages (from datasets) (1.1.5)\n",
      "Requirement already satisfied: xxhash in /home/nfel/.local/lib/python3.6/site-packages (from datasets) (2.0.2)\n",
      "Requirement already satisfied: multiprocess in /home/nfel/.local/lib/python3.6/site-packages (from datasets) (0.70.12.2)\n",
      "Requirement already satisfied: dill in /home/nfel/.local/lib/python3.6/site-packages (from datasets) (0.3.4)\n",
      "Requirement already satisfied: filelock in /home/nfel/.local/lib/python3.6/site-packages (from huggingface-hub<0.1.0->datasets) (3.0.12)\n",
      "Requirement already satisfied: urllib3<1.27,>=1.21.1 in /home/nfel/.local/lib/python3.6/site-packages (from requests>=2.19.0->datasets) (1.26.5)\n",
      "Requirement already satisfied: chardet<5,>=3.0.2 in /home/nfel/.local/lib/python3.6/site-packages (from requests>=2.19.0->datasets) (4.0.0)\n",
      "Requirement already satisfied: idna<3,>=2.5 in /home/nfel/.local/lib/python3.6/site-packages (from requests>=2.19.0->datasets) (2.10)\n",
      "Requirement already satisfied: certifi>=2017.4.17 in /home/nfel/.local/lib/python3.6/site-packages (from requests>=2.19.0->datasets) (2021.5.30)\n",
      "Requirement already satisfied: zipp>=0.5 in /home/nfel/.local/lib/python3.6/site-packages (from importlib-metadata->datasets) (3.4.1)\n",
      "Requirement already satisfied: typing-extensions>=3.6.4 in /home/nfel/.local/lib/python3.6/site-packages (from importlib-metadata->datasets) (3.10.0.0)\n",
      "Requirement already satisfied: pyparsing>=2.0.2 in /home/nfel/.local/lib/python3.6/site-packages (from packaging->datasets) (2.4.7)\n",
      "Requirement already satisfied: python-dateutil>=2.7.3 in /home/nfel/.local/lib/python3.6/site-packages (from pandas->datasets) (2.8.1)\n",
      "Requirement already satisfied: pytz>=2017.2 in /home/nfel/.local/lib/python3.6/site-packages (from pandas->datasets) (2021.1)\n",
      "Requirement already satisfied: six>=1.5 in /home/nfel/.local/lib/python3.6/site-packages (from python-dateutil>=2.7.3->pandas->datasets) (1.16.0)\n",
      "Defaulting to user installation because normal site-packages is not writeable\n",
      "Requirement already satisfied: spacy in /home/nfel/.local/lib/python3.6/site-packages (3.0.6)\n",
      "Requirement already satisfied: requests<3.0.0,>=2.13.0 in /home/nfel/.local/lib/python3.6/site-packages (from spacy) (2.25.1)\n",
      "Requirement already satisfied: setuptools in /home/nfel/.local/lib/python3.6/site-packages (from spacy) (57.0.0)\n",
      "Requirement already satisfied: typing-extensions<4.0.0.0,>=3.7.4 in /home/nfel/.local/lib/python3.6/site-packages (from spacy) (3.10.0.0)\n",
      "Requirement already satisfied: numpy>=1.15.0 in /home/nfel/.local/lib/python3.6/site-packages (from spacy) (1.19.5)\n",
      "Requirement already satisfied: typer<0.4.0,>=0.3.0 in /home/nfel/.local/lib/python3.6/site-packages (from spacy) (0.3.2)\n",
      "Requirement already satisfied: spacy-legacy<3.1.0,>=3.0.4 in /home/nfel/.local/lib/python3.6/site-packages (from spacy) (3.0.6)\n",
      "Requirement already satisfied: pydantic<1.8.0,>=1.7.1 in /home/nfel/.local/lib/python3.6/site-packages (from spacy) (1.7.4)\n",
      "Requirement already satisfied: catalogue<2.1.0,>=2.0.3 in /home/nfel/.local/lib/python3.6/site-packages (from spacy) (2.0.4)\n",
      "Requirement already satisfied: jinja2 in /home/nfel/.local/lib/python3.6/site-packages (from spacy) (3.0.1)\n",
      "Requirement already satisfied: murmurhash<1.1.0,>=0.28.0 in /home/nfel/.local/lib/python3.6/site-packages (from spacy) (1.0.5)\n",
      "Requirement already satisfied: thinc<8.1.0,>=8.0.3 in /home/nfel/.local/lib/python3.6/site-packages (from spacy) (8.0.4)\n",
      "Requirement already satisfied: srsly<3.0.0,>=2.4.1 in /home/nfel/.local/lib/python3.6/site-packages (from spacy) (2.4.1)\n",
      "Requirement already satisfied: preshed<3.1.0,>=3.0.2 in /home/nfel/.local/lib/python3.6/site-packages (from spacy) (3.0.5)\n",
      "Requirement already satisfied: pathy>=0.3.5 in /home/nfel/.local/lib/python3.6/site-packages (from spacy) (0.5.2)\n",
      "Requirement already satisfied: tqdm<5.0.0,>=4.38.0 in /home/nfel/.local/lib/python3.6/site-packages (from spacy) (4.49.0)\n",
      "Requirement already satisfied: blis<0.8.0,>=0.4.0 in /home/nfel/.local/lib/python3.6/site-packages (from spacy) (0.7.4)\n",
      "Requirement already satisfied: packaging>=20.0 in /home/nfel/.local/lib/python3.6/site-packages (from spacy) (20.9)\n",
      "Requirement already satisfied: wasabi<1.1.0,>=0.8.1 in /home/nfel/.local/lib/python3.6/site-packages (from spacy) (0.8.2)\n",
      "Requirement already satisfied: cymem<2.1.0,>=2.0.2 in /home/nfel/.local/lib/python3.6/site-packages (from spacy) (2.0.5)\n",
      "Requirement already satisfied: zipp>=0.5 in /home/nfel/.local/lib/python3.6/site-packages (from catalogue<2.1.0,>=2.0.3->spacy) (3.4.1)\n",
      "Requirement already satisfied: pyparsing>=2.0.2 in /home/nfel/.local/lib/python3.6/site-packages (from packaging>=20.0->spacy) (2.4.7)\n",
      "Requirement already satisfied: dataclasses<1.0,>=0.6 in /home/nfel/.local/lib/python3.6/site-packages (from pathy>=0.3.5->spacy) (0.8)\n",
      "Requirement already satisfied: smart-open<4.0.0,>=2.2.0 in /home/nfel/.local/lib/python3.6/site-packages (from pathy>=0.3.5->spacy) (3.0.0)\n",
      "Requirement already satisfied: chardet<5,>=3.0.2 in /home/nfel/.local/lib/python3.6/site-packages (from requests<3.0.0,>=2.13.0->spacy) (4.0.0)\n",
      "Requirement already satisfied: idna<3,>=2.5 in /home/nfel/.local/lib/python3.6/site-packages (from requests<3.0.0,>=2.13.0->spacy) (2.10)\n",
      "Requirement already satisfied: certifi>=2017.4.17 in /home/nfel/.local/lib/python3.6/site-packages (from requests<3.0.0,>=2.13.0->spacy) (2021.5.30)\n",
      "Requirement already satisfied: urllib3<1.27,>=1.21.1 in /home/nfel/.local/lib/python3.6/site-packages (from requests<3.0.0,>=2.13.0->spacy) (1.26.5)\n",
      "Requirement already satisfied: contextvars<3,>=2.4 in /home/nfel/.local/lib/python3.6/site-packages (from thinc<8.1.0,>=8.0.3->spacy) (2.4)\n",
      "Requirement already satisfied: immutables>=0.9 in /home/nfel/.local/lib/python3.6/site-packages (from contextvars<3,>=2.4->thinc<8.1.0,>=8.0.3->spacy) (0.15)\n"
     ]
    },
    {
     "name": "stdout",
     "output_type": "stream",
     "text": [
      "Requirement already satisfied: click<7.2.0,>=7.1.1 in /home/nfel/.local/lib/python3.6/site-packages (from typer<0.4.0,>=0.3.0->spacy) (7.1.2)\n",
      "Requirement already satisfied: MarkupSafe>=2.0 in /home/nfel/.local/lib/python3.6/site-packages (from jinja2->spacy) (2.0.1)\n",
      "Defaulting to user installation because normal site-packages is not writeable\n",
      "Requirement already satisfied: transformers in /home/nfel/.local/lib/python3.6/site-packages (4.6.1)\n",
      "Requirement already satisfied: requests in /home/nfel/.local/lib/python3.6/site-packages (from transformers) (2.25.1)\n",
      "Requirement already satisfied: packaging in /home/nfel/.local/lib/python3.6/site-packages (from transformers) (20.9)\n",
      "Requirement already satisfied: sacremoses in /home/nfel/.local/lib/python3.6/site-packages (from transformers) (0.0.45)\n",
      "Requirement already satisfied: filelock in /home/nfel/.local/lib/python3.6/site-packages (from transformers) (3.0.12)\n",
      "Requirement already satisfied: regex!=2019.12.17 in /home/nfel/.local/lib/python3.6/site-packages (from transformers) (2021.4.4)\n",
      "Requirement already satisfied: importlib-metadata in /home/nfel/.local/lib/python3.6/site-packages (from transformers) (4.5.0)\n",
      "Requirement already satisfied: huggingface-hub==0.0.8 in /home/nfel/.local/lib/python3.6/site-packages (from transformers) (0.0.8)\n",
      "Requirement already satisfied: numpy>=1.17 in /home/nfel/.local/lib/python3.6/site-packages (from transformers) (1.19.5)\n",
      "Requirement already satisfied: dataclasses in /home/nfel/.local/lib/python3.6/site-packages (from transformers) (0.8)\n",
      "Requirement already satisfied: tokenizers<0.11,>=0.10.1 in /home/nfel/.local/lib/python3.6/site-packages (from transformers) (0.10.3)\n",
      "Requirement already satisfied: tqdm>=4.27 in /home/nfel/.local/lib/python3.6/site-packages (from transformers) (4.49.0)\n",
      "Requirement already satisfied: typing-extensions>=3.6.4 in /home/nfel/.local/lib/python3.6/site-packages (from importlib-metadata->transformers) (3.10.0.0)\n",
      "Requirement already satisfied: zipp>=0.5 in /home/nfel/.local/lib/python3.6/site-packages (from importlib-metadata->transformers) (3.4.1)\n",
      "Requirement already satisfied: pyparsing>=2.0.2 in /home/nfel/.local/lib/python3.6/site-packages (from packaging->transformers) (2.4.7)\n",
      "Requirement already satisfied: idna<3,>=2.5 in /home/nfel/.local/lib/python3.6/site-packages (from requests->transformers) (2.10)\n",
      "Requirement already satisfied: chardet<5,>=3.0.2 in /home/nfel/.local/lib/python3.6/site-packages (from requests->transformers) (4.0.0)\n",
      "Requirement already satisfied: certifi>=2017.4.17 in /home/nfel/.local/lib/python3.6/site-packages (from requests->transformers) (2021.5.30)\n",
      "Requirement already satisfied: urllib3<1.27,>=1.21.1 in /home/nfel/.local/lib/python3.6/site-packages (from requests->transformers) (1.26.5)\n",
      "Requirement already satisfied: joblib in /home/nfel/.local/lib/python3.6/site-packages (from sacremoses->transformers) (1.0.1)\n",
      "Requirement already satisfied: click in /home/nfel/.local/lib/python3.6/site-packages (from sacremoses->transformers) (7.1.2)\n",
      "Requirement already satisfied: six in /home/nfel/.local/lib/python3.6/site-packages (from sacremoses->transformers) (1.16.0)\n",
      "Defaulting to user installation because normal site-packages is not writeable\n",
      "Requirement already satisfied: overrides in /home/nfel/.local/lib/python3.6/site-packages (6.1.0)\n",
      "Requirement already satisfied: typing-utils>=0.0.3 in /home/nfel/.local/lib/python3.6/site-packages (from overrides) (0.1.0)\n",
      "Defaulting to user installation because normal site-packages is not writeable\n",
      "Requirement already satisfied: jsonnet in /home/nfel/.local/lib/python3.6/site-packages (0.17.0)\n"
     ]
    }
   ],
   "source": [
    "!pip3 install --upgrade pip\n",
    "!pip3 install cmake\n",
    "!pip3 install cython\n",
    "!pip3 install numpy\n",
    "!pip3 install torch\n",
    "!pip3 install datasets\n",
    "!pip3 install spacy\n",
    "!pip3 install transformers\n",
    "!pip3 install overrides\n",
    "!pip3 install jsonnet"
   ]
  },
  {
   "cell_type": "code",
   "execution_count": 3,
   "metadata": {},
   "outputs": [],
   "source": [
    "import sys\n",
    "# Include root directory in module path\n",
    "sys.path.append('src')\n",
    "\n",
    "from datasets import load_dataset\n",
    "from pprint import pprint\n",
    "\n",
    "import thermostat  # Accompanying library"
   ]
  },
  {
   "cell_type": "markdown",
   "metadata": {},
   "source": [
    "# Load dataset\n",
    "\n",
    "This will use the dataset script (\"thermostat.py\") in the \"thermostat\" directory.\n",
    "In this example, we use the test set of the \"imdb-bert-lgxa\" configuration.\n",
    "This refers to Layer Gradient x Activation (LGxA) explanations of the predictions by a BERT model that has been fine-tuned on the IMDb (train) dataset and evaluated on the IMDb test dataset.\n",
    "In other words, we load the 25k test examples from the IMDb test plus the BERT predictions and the feature attributions from a Layer Gradient x Activation explainer."
   ]
  },
  {
   "cell_type": "code",
   "execution_count": 4,
   "metadata": {
    "pycharm": {
     "name": "#%%\n"
    }
   },
   "outputs": [
    {
     "name": "stderr",
     "output_type": "stream",
     "text": [
      "Reusing dataset thermostat (/home/nfel/.cache/huggingface/datasets/thermostat/imdb-bert-lgxa/1.0.0/82ada9d63d3c6b421a4ade89adc656b856fe9924abbc5cc94f20d472f5c71e99)\n"
     ]
    }
   ],
   "source": [
    "data = load_dataset(\"thermostat\", \"imdb-bert-lgxa\", split=\"test\")"
   ]
  },
  {
   "cell_type": "markdown",
   "metadata": {},
   "source": [
    "Now let's inspect a single instance of the loaded dataset.\n",
    "Here, we will stick to the functionality that the datasets library already supplies us with.\n",
    "For readability purposes, we will not print the whole content of that instance.\n",
    "Instead, we're showing only the first few entries of the attributions and the input_ids, respectively."
   ]
  },
  {
   "cell_type": "code",
   "execution_count": 5,
   "metadata": {},
   "outputs": [
    {
     "name": "stdout",
     "output_type": "stream",
     "text": [
      "Keys: dict_keys(['attributions', 'idx', 'input_ids', 'label', 'predictions'])\n",
      "\n",
      "Index: 0\n",
      "Input IDs (first 15): [101, 2092, 1010, 1045, 7166, 2000, 3422, 3152, 2005, 2028, 1997, 2093, 4436, 1012, 6854]\n",
      "Attributions (first 4): [-0.18760254979133606, -0.0315956249833107, 0.04854373633861542, 0.00658783596009016]\n",
      "True label: 1\n",
      "Predictions (logits): [-3.4371631145477295, 4.042327404022217]\n"
     ]
    }
   ],
   "source": [
    "instance = data[0]\n",
    "\n",
    "print(f'Keys: {instance.keys()}\\n')\n",
    "print(f'Index: {instance[\"idx\"]}')\n",
    "print(f'Input IDs (first 15): {instance[\"input_ids\"][:15]}')\n",
    "print(f'Attributions (first 4): {instance[\"attributions\"][:4]}')\n",
    "print(f'True label: {instance[\"label\"]}')\n",
    "print(f'Predictions (logits): {instance[\"predictions\"]}')"
   ]
  },
  {
   "cell_type": "markdown",
   "metadata": {},
   "source": [
    "# Visualize data\n",
    "Can we make this a bit more readable?  \n",
    "Of course! First, let's select a small subset using the datasets \".select\" function:"
   ]
  },
  {
   "cell_type": "code",
   "execution_count": 6,
   "metadata": {},
   "outputs": [],
   "source": [
    "lgxa_head = data.select(range(20))"
   ]
  },
  {
   "cell_type": "markdown",
   "metadata": {},
   "source": [
    "Next, we can import the \"Thermopack\" class from our accompanying library. It inherits all properties from a Hugging Face Dataset, but also instantiates the tokenizer of the downstream model and automatically decodes the Input IDs to words."
   ]
  },
  {
   "cell_type": "code",
   "execution_count": 7,
   "metadata": {},
   "outputs": [
    {
     "name": "stdout",
     "output_type": "stream",
     "text": [
      "IMDb dataset, BERT model, Layer Gradient x Activation explanations\n",
      "Explainer: LayerGradientXActivation\n",
      "Model: textattack/bert-base-uncased-imdb\n",
      "Dataset: imdb\n",
      "\n"
     ]
    }
   ],
   "source": [
    "tp = thermostat.Thermopack(lgxa_head)\n",
    "print(tp)"
   ]
  },
  {
   "cell_type": "code",
   "execution_count": 8,
   "metadata": {},
   "outputs": [
    {
     "name": "stdout",
     "output_type": "stream",
     "text": [
      "{'dataset': Dataset({\n",
      "    features: ['attributions', 'idx', 'input_ids', 'label', 'predictions'],\n",
      "    num_rows: 20\n",
      "}),\n",
      " 'dataset_name': 'imdb',\n",
      " 'explainer_name': 'LayerGradientXActivation',\n",
      " 'label_names': ['neg', 'pos'],\n",
      " 'model_name': 'textattack/bert-base-uncased-imdb',\n",
      " 'tokenizer': PreTrainedTokenizerFast(name_or_path='textattack/bert-base-uncased-imdb', vocab_size=30522, model_max_len=512, is_fast=True, padding_side='right', special_tokens={'unk_token': '[UNK]', 'sep_token': '[SEP]', 'pad_token': '[PAD]', 'cls_token': '[CLS]', 'mask_token': '[MASK]'}),\n",
      " 'units': [<thermostat.data.dataset_utils.Thermounit object at 0x7fa4872794a8>,\n",
      "           <thermostat.data.dataset_utils.Thermounit object at 0x7fa4297a6128>,\n",
      "           <thermostat.data.dataset_utils.Thermounit object at 0x7fa422d89b00>,\n",
      "           <thermostat.data.dataset_utils.Thermounit object at 0x7fa4234e4e80>,\n",
      "           <thermostat.data.dataset_utils.Thermounit object at 0x7fa4234faba8>,\n",
      "           <thermostat.data.dataset_utils.Thermounit object at 0x7fa422cfd898>,\n",
      "           <thermostat.data.dataset_utils.Thermounit object at 0x7fa422e85048>,\n",
      "           <thermostat.data.dataset_utils.Thermounit object at 0x7fa422e53b38>,\n",
      "           <thermostat.data.dataset_utils.Thermounit object at 0x7fa422e2d4e0>,\n",
      "           <thermostat.data.dataset_utils.Thermounit object at 0x7fa422deacc0>,\n",
      "           <thermostat.data.dataset_utils.Thermounit object at 0x7fa422da3518>,\n",
      "           <thermostat.data.dataset_utils.Thermounit object at 0x7fa422d257b8>,\n",
      "           <thermostat.data.dataset_utils.Thermounit object at 0x7fa422cc9fd0>,\n",
      "           <thermostat.data.dataset_utils.Thermounit object at 0x7fa422d3ff60>,\n",
      "           <thermostat.data.dataset_utils.Thermounit object at 0x7fa422c76048>,\n",
      "           <thermostat.data.dataset_utils.Thermounit object at 0x7fa422bd34a8>,\n",
      "           <thermostat.data.dataset_utils.Thermounit object at 0x7fa422c04320>,\n",
      "           <thermostat.data.dataset_utils.Thermounit object at 0x7fa422bab320>,\n",
      "           <thermostat.data.dataset_utils.Thermounit object at 0x7fa422bca860>,\n",
      "           <thermostat.data.dataset_utils.Thermounit object at 0x7fa422b73f28>]}\n"
     ]
    }
   ],
   "source": [
    "pprint({k: v for k, v in vars(tp).items() if not k.startswith('_')})"
   ]
  },
  {
   "cell_type": "code",
   "execution_count": 9,
   "metadata": {},
   "outputs": [
    {
     "name": "stdout",
     "output_type": "stream",
     "text": [
      "{'dataset_name': 'imdb',\n",
      " 'explainer_name': 'LayerGradientXActivation',\n",
      " 'index': 0,\n",
      " 'model_name': 'textattack/bert-base-uncased-imdb',\n",
      " 'predicted_label': {'index': 1, 'name': 'pos'},\n",
      " 'text': 'well, i tend to watch films for one of three reasons. unfortunately, '\n",
      "         'there are no transformers in this film, so i can recommend it only '\n",
      "         'on comedy value and pretty women ( read girls ) < br / > < br / > '\n",
      "         'yes, it is funny, i know this due to the number of people in the '\n",
      "         'cinema who were laughing on a regular basis throughout. personally '\n",
      "         'though, i loved it for laura fraser, who imho is fit!',\n",
      " 'tokenizer': PreTrainedTokenizerFast(name_or_path='textattack/bert-base-uncased-imdb', vocab_size=30522, model_max_len=512, is_fast=True, padding_side='right', special_tokens={'unk_token': '[UNK]', 'sep_token': '[SEP]', 'pad_token': '[PAD]', 'cls_token': '[CLS]', 'mask_token': '[MASK]'}),\n",
      " 'true_label': {'index': 1, 'name': 'pos'}}\n"
     ]
    }
   ],
   "source": [
    "tu0 = tp[0]\n",
    "pprint({k: v for k, v in vars(tu0).items() if not k.startswith('_') and k not in ['heatmap', 'instance', 'tokens']})"
   ]
  },
  {
   "cell_type": "code",
   "execution_count": 10,
   "metadata": {},
   "outputs": [
    {
     "data": {
      "text/html": [
       "<span class=\"tex2jax_ignore\"><div class=\"entities\" style=\"line-height: 2.5; direction: ltr\">\n",
       "            <mark class=\"entity\" style=\"background: #fbfbff; padding: 0.3em 0.45em; margin: 0 0.25em; line-height: 2.25;\n",
       "            border-radius: 0.25em; box-decoration-break: clone; -webkit-box-decoration-break: clone\">\n",
       "                well\n",
       "            </mark>\n",
       "            \n",
       "            <mark class=\"entity\" style=\"background: #fff7f7; padding: 0.3em 0.45em; margin: 0 0.25em; line-height: 2.25;\n",
       "            border-radius: 0.25em; box-decoration-break: clone; -webkit-box-decoration-break: clone\">\n",
       "                ,\n",
       "            </mark>\n",
       "            \n",
       "            <mark class=\"entity\" style=\"background: #fffefe; padding: 0.3em 0.45em; margin: 0 0.25em; line-height: 2.25;\n",
       "            border-radius: 0.25em; box-decoration-break: clone; -webkit-box-decoration-break: clone\">\n",
       "                i\n",
       "            </mark>\n",
       "            \n",
       "            <mark class=\"entity\" style=\"background: #fffdfd; padding: 0.3em 0.45em; margin: 0 0.25em; line-height: 2.25;\n",
       "            border-radius: 0.25em; box-decoration-break: clone; -webkit-box-decoration-break: clone\">\n",
       "                tend\n",
       "            </mark>\n",
       "            \n",
       "            <mark class=\"entity\" style=\"background: #fdfdff; padding: 0.3em 0.45em; margin: 0 0.25em; line-height: 2.25;\n",
       "            border-radius: 0.25em; box-decoration-break: clone; -webkit-box-decoration-break: clone\">\n",
       "                to\n",
       "            </mark>\n",
       "            \n",
       "            <mark class=\"entity\" style=\"background: #fefeff; padding: 0.3em 0.45em; margin: 0 0.25em; line-height: 2.25;\n",
       "            border-radius: 0.25em; box-decoration-break: clone; -webkit-box-decoration-break: clone\">\n",
       "                watch\n",
       "            </mark>\n",
       "            \n",
       "            <mark class=\"entity\" style=\"background: #fffcfc; padding: 0.3em 0.45em; margin: 0 0.25em; line-height: 2.25;\n",
       "            border-radius: 0.25em; box-decoration-break: clone; -webkit-box-decoration-break: clone\">\n",
       "                films\n",
       "            </mark>\n",
       "            \n",
       "            <mark class=\"entity\" style=\"background: #fefeff; padding: 0.3em 0.45em; margin: 0 0.25em; line-height: 2.25;\n",
       "            border-radius: 0.25em; box-decoration-break: clone; -webkit-box-decoration-break: clone\">\n",
       "                for\n",
       "            </mark>\n",
       "            \n",
       "            <mark class=\"entity\" style=\"background: #fffefe; padding: 0.3em 0.45em; margin: 0 0.25em; line-height: 2.25;\n",
       "            border-radius: 0.25em; box-decoration-break: clone; -webkit-box-decoration-break: clone\">\n",
       "                one\n",
       "            </mark>\n",
       "            \n",
       "            <mark class=\"entity\" style=\"background: #fffefe; padding: 0.3em 0.45em; margin: 0 0.25em; line-height: 2.25;\n",
       "            border-radius: 0.25em; box-decoration-break: clone; -webkit-box-decoration-break: clone\">\n",
       "                of\n",
       "            </mark>\n",
       "            \n",
       "            <mark class=\"entity\" style=\"background: #fefeff; padding: 0.3em 0.45em; margin: 0 0.25em; line-height: 2.25;\n",
       "            border-radius: 0.25em; box-decoration-break: clone; -webkit-box-decoration-break: clone\">\n",
       "                three\n",
       "            </mark>\n",
       "            \n",
       "            <mark class=\"entity\" style=\"background: #ffe9e9; padding: 0.3em 0.45em; margin: 0 0.25em; line-height: 2.25;\n",
       "            border-radius: 0.25em; box-decoration-break: clone; -webkit-box-decoration-break: clone\">\n",
       "                reasons\n",
       "            </mark>\n",
       "            \n",
       "            <mark class=\"entity\" style=\"background: #fdfdff; padding: 0.3em 0.45em; margin: 0 0.25em; line-height: 2.25;\n",
       "            border-radius: 0.25em; box-decoration-break: clone; -webkit-box-decoration-break: clone\">\n",
       "                .\n",
       "            </mark>\n",
       "            \n",
       "            <mark class=\"entity\" style=\"background: #f7f7ff; padding: 0.3em 0.45em; margin: 0 0.25em; line-height: 2.25;\n",
       "            border-radius: 0.25em; box-decoration-break: clone; -webkit-box-decoration-break: clone\">\n",
       "                unfortunately\n",
       "            </mark>\n",
       "            \n",
       "            <mark class=\"entity\" style=\"background: #fffefe; padding: 0.3em 0.45em; margin: 0 0.25em; line-height: 2.25;\n",
       "            border-radius: 0.25em; box-decoration-break: clone; -webkit-box-decoration-break: clone\">\n",
       "                ,\n",
       "            </mark>\n",
       "            \n",
       "            <mark class=\"entity\" style=\"background: #fafaff; padding: 0.3em 0.45em; margin: 0 0.25em; line-height: 2.25;\n",
       "            border-radius: 0.25em; box-decoration-break: clone; -webkit-box-decoration-break: clone\">\n",
       "                there\n",
       "            </mark>\n",
       "            \n",
       "            <mark class=\"entity\" style=\"background: #ffe2e2; padding: 0.3em 0.45em; margin: 0 0.25em; line-height: 2.25;\n",
       "            border-radius: 0.25em; box-decoration-break: clone; -webkit-box-decoration-break: clone\">\n",
       "                are\n",
       "            </mark>\n",
       "            \n",
       "            <mark class=\"entity\" style=\"background: #f7f7ff; padding: 0.3em 0.45em; margin: 0 0.25em; line-height: 2.25;\n",
       "            border-radius: 0.25em; box-decoration-break: clone; -webkit-box-decoration-break: clone\">\n",
       "                no\n",
       "            </mark>\n",
       "            \n",
       "            <mark class=\"entity\" style=\"background: #f6f6ff; padding: 0.3em 0.45em; margin: 0 0.25em; line-height: 2.25;\n",
       "            border-radius: 0.25em; box-decoration-break: clone; -webkit-box-decoration-break: clone\">\n",
       "                transformers\n",
       "            </mark>\n",
       "            \n",
       "            <mark class=\"entity\" style=\"background: #fff0f0; padding: 0.3em 0.45em; margin: 0 0.25em; line-height: 2.25;\n",
       "            border-radius: 0.25em; box-decoration-break: clone; -webkit-box-decoration-break: clone\">\n",
       "                in\n",
       "            </mark>\n",
       "            \n",
       "            <mark class=\"entity\" style=\"background: #efefff; padding: 0.3em 0.45em; margin: 0 0.25em; line-height: 2.25;\n",
       "            border-radius: 0.25em; box-decoration-break: clone; -webkit-box-decoration-break: clone\">\n",
       "                this\n",
       "            </mark>\n",
       "            \n",
       "            <mark class=\"entity\" style=\"background: #fff5f5; padding: 0.3em 0.45em; margin: 0 0.25em; line-height: 2.25;\n",
       "            border-radius: 0.25em; box-decoration-break: clone; -webkit-box-decoration-break: clone\">\n",
       "                film\n",
       "            </mark>\n",
       "            \n",
       "            <mark class=\"entity\" style=\"background: #fff9f9; padding: 0.3em 0.45em; margin: 0 0.25em; line-height: 2.25;\n",
       "            border-radius: 0.25em; box-decoration-break: clone; -webkit-box-decoration-break: clone\">\n",
       "                ,\n",
       "            </mark>\n",
       "            \n",
       "            <mark class=\"entity\" style=\"background: #fffefe; padding: 0.3em 0.45em; margin: 0 0.25em; line-height: 2.25;\n",
       "            border-radius: 0.25em; box-decoration-break: clone; -webkit-box-decoration-break: clone\">\n",
       "                so\n",
       "            </mark>\n",
       "            \n",
       "            <mark class=\"entity\" style=\"background: #fff6f6; padding: 0.3em 0.45em; margin: 0 0.25em; line-height: 2.25;\n",
       "            border-radius: 0.25em; box-decoration-break: clone; -webkit-box-decoration-break: clone\">\n",
       "                i\n",
       "            </mark>\n",
       "            \n",
       "            <mark class=\"entity\" style=\"background: #fffcfc; padding: 0.3em 0.45em; margin: 0 0.25em; line-height: 2.25;\n",
       "            border-radius: 0.25em; box-decoration-break: clone; -webkit-box-decoration-break: clone\">\n",
       "                can\n",
       "            </mark>\n",
       "            \n",
       "            <mark class=\"entity\" style=\"background: #f4f4ff; padding: 0.3em 0.45em; margin: 0 0.25em; line-height: 2.25;\n",
       "            border-radius: 0.25em; box-decoration-break: clone; -webkit-box-decoration-break: clone\">\n",
       "                recommend\n",
       "            </mark>\n",
       "            \n",
       "            <mark class=\"entity\" style=\"background: #fefeff; padding: 0.3em 0.45em; margin: 0 0.25em; line-height: 2.25;\n",
       "            border-radius: 0.25em; box-decoration-break: clone; -webkit-box-decoration-break: clone\">\n",
       "                it\n",
       "            </mark>\n",
       "            \n",
       "            <mark class=\"entity\" style=\"background: #fffefe; padding: 0.3em 0.45em; margin: 0 0.25em; line-height: 2.25;\n",
       "            border-radius: 0.25em; box-decoration-break: clone; -webkit-box-decoration-break: clone\">\n",
       "                only\n",
       "            </mark>\n",
       "            \n",
       "            <mark class=\"entity\" style=\"background: #fcfcff; padding: 0.3em 0.45em; margin: 0 0.25em; line-height: 2.25;\n",
       "            border-radius: 0.25em; box-decoration-break: clone; -webkit-box-decoration-break: clone\">\n",
       "                on\n",
       "            </mark>\n",
       "            \n",
       "            <mark class=\"entity\" style=\"background: #ff0000; padding: 0.3em 0.45em; margin: 0 0.25em; line-height: 2.25;\n",
       "            border-radius: 0.25em; box-decoration-break: clone; -webkit-box-decoration-break: clone\">\n",
       "                comedy\n",
       "            </mark>\n",
       "            \n",
       "            <mark class=\"entity\" style=\"background: #fffefe; padding: 0.3em 0.45em; margin: 0 0.25em; line-height: 2.25;\n",
       "            border-radius: 0.25em; box-decoration-break: clone; -webkit-box-decoration-break: clone\">\n",
       "                value\n",
       "            </mark>\n",
       "            \n",
       "            <mark class=\"entity\" style=\"background: #ebebff; padding: 0.3em 0.45em; margin: 0 0.25em; line-height: 2.25;\n",
       "            border-radius: 0.25em; box-decoration-break: clone; -webkit-box-decoration-break: clone\">\n",
       "                and\n",
       "            </mark>\n",
       "            \n",
       "            <mark class=\"entity\" style=\"background: #fff0f0; padding: 0.3em 0.45em; margin: 0 0.25em; line-height: 2.25;\n",
       "            border-radius: 0.25em; box-decoration-break: clone; -webkit-box-decoration-break: clone\">\n",
       "                pretty\n",
       "            </mark>\n",
       "            \n",
       "            <mark class=\"entity\" style=\"background: #f9f9ff; padding: 0.3em 0.45em; margin: 0 0.25em; line-height: 2.25;\n",
       "            border-radius: 0.25em; box-decoration-break: clone; -webkit-box-decoration-break: clone\">\n",
       "                women\n",
       "            </mark>\n",
       "            \n",
       "            <mark class=\"entity\" style=\"background: #fefeff; padding: 0.3em 0.45em; margin: 0 0.25em; line-height: 2.25;\n",
       "            border-radius: 0.25em; box-decoration-break: clone; -webkit-box-decoration-break: clone\">\n",
       "                (\n",
       "            </mark>\n",
       "            \n",
       "            <mark class=\"entity\" style=\"background: #fffefe; padding: 0.3em 0.45em; margin: 0 0.25em; line-height: 2.25;\n",
       "            border-radius: 0.25em; box-decoration-break: clone; -webkit-box-decoration-break: clone\">\n",
       "                read\n",
       "            </mark>\n",
       "            \n",
       "            <mark class=\"entity\" style=\"background: #fefeff; padding: 0.3em 0.45em; margin: 0 0.25em; line-height: 2.25;\n",
       "            border-radius: 0.25em; box-decoration-break: clone; -webkit-box-decoration-break: clone\">\n",
       "                girls\n",
       "            </mark>\n",
       "            \n",
       "            <mark class=\"entity\" style=\"background: #fff6f6; padding: 0.3em 0.45em; margin: 0 0.25em; line-height: 2.25;\n",
       "            border-radius: 0.25em; box-decoration-break: clone; -webkit-box-decoration-break: clone\">\n",
       "                )\n",
       "            </mark>\n",
       "            \n",
       "            <mark class=\"entity\" style=\"background: #fefeff; padding: 0.3em 0.45em; margin: 0 0.25em; line-height: 2.25;\n",
       "            border-radius: 0.25em; box-decoration-break: clone; -webkit-box-decoration-break: clone\">\n",
       "                &lt;\n",
       "            </mark>\n",
       "            \n",
       "            <mark class=\"entity\" style=\"background: #fffefe; padding: 0.3em 0.45em; margin: 0 0.25em; line-height: 2.25;\n",
       "            border-radius: 0.25em; box-decoration-break: clone; -webkit-box-decoration-break: clone\">\n",
       "                br\n",
       "            </mark>\n",
       "            \n",
       "            <mark class=\"entity\" style=\"background: #fefeff; padding: 0.3em 0.45em; margin: 0 0.25em; line-height: 2.25;\n",
       "            border-radius: 0.25em; box-decoration-break: clone; -webkit-box-decoration-break: clone\">\n",
       "                /\n",
       "            </mark>\n",
       "            \n",
       "            <mark class=\"entity\" style=\"background: #fefeff; padding: 0.3em 0.45em; margin: 0 0.25em; line-height: 2.25;\n",
       "            border-radius: 0.25em; box-decoration-break: clone; -webkit-box-decoration-break: clone\">\n",
       "                &gt;\n",
       "            </mark>\n",
       "            \n",
       "            <mark class=\"entity\" style=\"background: #fefeff; padding: 0.3em 0.45em; margin: 0 0.25em; line-height: 2.25;\n",
       "            border-radius: 0.25em; box-decoration-break: clone; -webkit-box-decoration-break: clone\">\n",
       "                &lt;\n",
       "            </mark>\n",
       "            \n",
       "            <mark class=\"entity\" style=\"background: #fff7f7; padding: 0.3em 0.45em; margin: 0 0.25em; line-height: 2.25;\n",
       "            border-radius: 0.25em; box-decoration-break: clone; -webkit-box-decoration-break: clone\">\n",
       "                br\n",
       "            </mark>\n",
       "            \n",
       "            <mark class=\"entity\" style=\"background: #fffbfb; padding: 0.3em 0.45em; margin: 0 0.25em; line-height: 2.25;\n",
       "            border-radius: 0.25em; box-decoration-break: clone; -webkit-box-decoration-break: clone\">\n",
       "                /\n",
       "            </mark>\n",
       "            \n",
       "            <mark class=\"entity\" style=\"background: #f4f4ff; padding: 0.3em 0.45em; margin: 0 0.25em; line-height: 2.25;\n",
       "            border-radius: 0.25em; box-decoration-break: clone; -webkit-box-decoration-break: clone\">\n",
       "                &gt;\n",
       "            </mark>\n",
       "            \n",
       "            <mark class=\"entity\" style=\"background: #f7f7ff; padding: 0.3em 0.45em; margin: 0 0.25em; line-height: 2.25;\n",
       "            border-radius: 0.25em; box-decoration-break: clone; -webkit-box-decoration-break: clone\">\n",
       "                yes\n",
       "            </mark>\n",
       "            \n",
       "            <mark class=\"entity\" style=\"background: #fffefe; padding: 0.3em 0.45em; margin: 0 0.25em; line-height: 2.25;\n",
       "            border-radius: 0.25em; box-decoration-break: clone; -webkit-box-decoration-break: clone\">\n",
       "                ,\n",
       "            </mark>\n",
       "            \n",
       "            <mark class=\"entity\" style=\"background: #f9f9ff; padding: 0.3em 0.45em; margin: 0 0.25em; line-height: 2.25;\n",
       "            border-radius: 0.25em; box-decoration-break: clone; -webkit-box-decoration-break: clone\">\n",
       "                it\n",
       "            </mark>\n",
       "            \n",
       "            <mark class=\"entity\" style=\"background: #fbfbff; padding: 0.3em 0.45em; margin: 0 0.25em; line-height: 2.25;\n",
       "            border-radius: 0.25em; box-decoration-break: clone; -webkit-box-decoration-break: clone\">\n",
       "                is\n",
       "            </mark>\n",
       "            \n",
       "            <mark class=\"entity\" style=\"background: #fefeff; padding: 0.3em 0.45em; margin: 0 0.25em; line-height: 2.25;\n",
       "            border-radius: 0.25em; box-decoration-break: clone; -webkit-box-decoration-break: clone\">\n",
       "                funny\n",
       "            </mark>\n",
       "            \n",
       "            <mark class=\"entity\" style=\"background: #ffe8e8; padding: 0.3em 0.45em; margin: 0 0.25em; line-height: 2.25;\n",
       "            border-radius: 0.25em; box-decoration-break: clone; -webkit-box-decoration-break: clone\">\n",
       "                ,\n",
       "            </mark>\n",
       "            \n",
       "            <mark class=\"entity\" style=\"background: #f8f8ff; padding: 0.3em 0.45em; margin: 0 0.25em; line-height: 2.25;\n",
       "            border-radius: 0.25em; box-decoration-break: clone; -webkit-box-decoration-break: clone\">\n",
       "                i\n",
       "            </mark>\n",
       "            \n",
       "            <mark class=\"entity\" style=\"background: #fffdfd; padding: 0.3em 0.45em; margin: 0 0.25em; line-height: 2.25;\n",
       "            border-radius: 0.25em; box-decoration-break: clone; -webkit-box-decoration-break: clone\">\n",
       "                know\n",
       "            </mark>\n",
       "            \n",
       "            <mark class=\"entity\" style=\"background: #fefeff; padding: 0.3em 0.45em; margin: 0 0.25em; line-height: 2.25;\n",
       "            border-radius: 0.25em; box-decoration-break: clone; -webkit-box-decoration-break: clone\">\n",
       "                this\n",
       "            </mark>\n",
       "            \n",
       "            <mark class=\"entity\" style=\"background: #fffbfb; padding: 0.3em 0.45em; margin: 0 0.25em; line-height: 2.25;\n",
       "            border-radius: 0.25em; box-decoration-break: clone; -webkit-box-decoration-break: clone\">\n",
       "                due\n",
       "            </mark>\n",
       "            \n",
       "            <mark class=\"entity\" style=\"background: #fafaff; padding: 0.3em 0.45em; margin: 0 0.25em; line-height: 2.25;\n",
       "            border-radius: 0.25em; box-decoration-break: clone; -webkit-box-decoration-break: clone\">\n",
       "                to\n",
       "            </mark>\n",
       "            \n",
       "            <mark class=\"entity\" style=\"background: #fffdfd; padding: 0.3em 0.45em; margin: 0 0.25em; line-height: 2.25;\n",
       "            border-radius: 0.25em; box-decoration-break: clone; -webkit-box-decoration-break: clone\">\n",
       "                the\n",
       "            </mark>\n",
       "            \n",
       "            <mark class=\"entity\" style=\"background: #fff8f8; padding: 0.3em 0.45em; margin: 0 0.25em; line-height: 2.25;\n",
       "            border-radius: 0.25em; box-decoration-break: clone; -webkit-box-decoration-break: clone\">\n",
       "                number\n",
       "            </mark>\n",
       "            \n",
       "            <mark class=\"entity\" style=\"background: #f6f6ff; padding: 0.3em 0.45em; margin: 0 0.25em; line-height: 2.25;\n",
       "            border-radius: 0.25em; box-decoration-break: clone; -webkit-box-decoration-break: clone\">\n",
       "                of\n",
       "            </mark>\n",
       "            \n",
       "            <mark class=\"entity\" style=\"background: #fffefe; padding: 0.3em 0.45em; margin: 0 0.25em; line-height: 2.25;\n",
       "            border-radius: 0.25em; box-decoration-break: clone; -webkit-box-decoration-break: clone\">\n",
       "                people\n",
       "            </mark>\n",
       "            \n",
       "            <mark class=\"entity\" style=\"background: #fff1f1; padding: 0.3em 0.45em; margin: 0 0.25em; line-height: 2.25;\n",
       "            border-radius: 0.25em; box-decoration-break: clone; -webkit-box-decoration-break: clone\">\n",
       "                in\n",
       "            </mark>\n",
       "            \n",
       "            <mark class=\"entity\" style=\"background: #fffefe; padding: 0.3em 0.45em; margin: 0 0.25em; line-height: 2.25;\n",
       "            border-radius: 0.25em; box-decoration-break: clone; -webkit-box-decoration-break: clone\">\n",
       "                the\n",
       "            </mark>\n",
       "            \n",
       "            <mark class=\"entity\" style=\"background: #f5f5ff; padding: 0.3em 0.45em; margin: 0 0.25em; line-height: 2.25;\n",
       "            border-radius: 0.25em; box-decoration-break: clone; -webkit-box-decoration-break: clone\">\n",
       "                cinema\n",
       "            </mark>\n",
       "            \n",
       "            <mark class=\"entity\" style=\"background: #fdfdff; padding: 0.3em 0.45em; margin: 0 0.25em; line-height: 2.25;\n",
       "            border-radius: 0.25em; box-decoration-break: clone; -webkit-box-decoration-break: clone\">\n",
       "                who\n",
       "            </mark>\n",
       "            \n",
       "            <mark class=\"entity\" style=\"background: #fffefe; padding: 0.3em 0.45em; margin: 0 0.25em; line-height: 2.25;\n",
       "            border-radius: 0.25em; box-decoration-break: clone; -webkit-box-decoration-break: clone\">\n",
       "                were\n",
       "            </mark>\n",
       "            \n",
       "            <mark class=\"entity\" style=\"background: #fffefe; padding: 0.3em 0.45em; margin: 0 0.25em; line-height: 2.25;\n",
       "            border-radius: 0.25em; box-decoration-break: clone; -webkit-box-decoration-break: clone\">\n",
       "                laughing\n",
       "            </mark>\n",
       "            \n",
       "            <mark class=\"entity\" style=\"background: #fffefe; padding: 0.3em 0.45em; margin: 0 0.25em; line-height: 2.25;\n",
       "            border-radius: 0.25em; box-decoration-break: clone; -webkit-box-decoration-break: clone\">\n",
       "                on\n",
       "            </mark>\n",
       "            \n",
       "            <mark class=\"entity\" style=\"background: #f3f3ff; padding: 0.3em 0.45em; margin: 0 0.25em; line-height: 2.25;\n",
       "            border-radius: 0.25em; box-decoration-break: clone; -webkit-box-decoration-break: clone\">\n",
       "                a\n",
       "            </mark>\n",
       "            \n",
       "            <mark class=\"entity\" style=\"background: #f9f9ff; padding: 0.3em 0.45em; margin: 0 0.25em; line-height: 2.25;\n",
       "            border-radius: 0.25em; box-decoration-break: clone; -webkit-box-decoration-break: clone\">\n",
       "                regular\n",
       "            </mark>\n",
       "            \n",
       "            <mark class=\"entity\" style=\"background: #ffe5e5; padding: 0.3em 0.45em; margin: 0 0.25em; line-height: 2.25;\n",
       "            border-radius: 0.25em; box-decoration-break: clone; -webkit-box-decoration-break: clone\">\n",
       "                basis\n",
       "            </mark>\n",
       "            \n",
       "            <mark class=\"entity\" style=\"background: #fefeff; padding: 0.3em 0.45em; margin: 0 0.25em; line-height: 2.25;\n",
       "            border-radius: 0.25em; box-decoration-break: clone; -webkit-box-decoration-break: clone\">\n",
       "                throughout\n",
       "            </mark>\n",
       "            \n",
       "            <mark class=\"entity\" style=\"background: #fffefe; padding: 0.3em 0.45em; margin: 0 0.25em; line-height: 2.25;\n",
       "            border-radius: 0.25em; box-decoration-break: clone; -webkit-box-decoration-break: clone\">\n",
       "                .\n",
       "            </mark>\n",
       "            \n",
       "            <mark class=\"entity\" style=\"background: #f2f2ff; padding: 0.3em 0.45em; margin: 0 0.25em; line-height: 2.25;\n",
       "            border-radius: 0.25em; box-decoration-break: clone; -webkit-box-decoration-break: clone\">\n",
       "                personally\n",
       "            </mark>\n",
       "            \n",
       "            <mark class=\"entity\" style=\"background: #fff7f7; padding: 0.3em 0.45em; margin: 0 0.25em; line-height: 2.25;\n",
       "            border-radius: 0.25em; box-decoration-break: clone; -webkit-box-decoration-break: clone\">\n",
       "                though\n",
       "            </mark>\n",
       "            \n",
       "            <mark class=\"entity\" style=\"background: #ffe1e1; padding: 0.3em 0.45em; margin: 0 0.25em; line-height: 2.25;\n",
       "            border-radius: 0.25em; box-decoration-break: clone; -webkit-box-decoration-break: clone\">\n",
       "                ,\n",
       "            </mark>\n",
       "            \n",
       "            <mark class=\"entity\" style=\"background: #ff9a9a; padding: 0.3em 0.45em; margin: 0 0.25em; line-height: 2.25;\n",
       "            border-radius: 0.25em; box-decoration-break: clone; -webkit-box-decoration-break: clone\">\n",
       "                i\n",
       "            </mark>\n",
       "            \n",
       "            <mark class=\"entity\" style=\"background: #fff5f5; padding: 0.3em 0.45em; margin: 0 0.25em; line-height: 2.25;\n",
       "            border-radius: 0.25em; box-decoration-break: clone; -webkit-box-decoration-break: clone\">\n",
       "                loved\n",
       "            </mark>\n",
       "            \n",
       "            <mark class=\"entity\" style=\"background: #fff7f7; padding: 0.3em 0.45em; margin: 0 0.25em; line-height: 2.25;\n",
       "            border-radius: 0.25em; box-decoration-break: clone; -webkit-box-decoration-break: clone\">\n",
       "                it\n",
       "            </mark>\n",
       "            \n",
       "            <mark class=\"entity\" style=\"background: #fff0f0; padding: 0.3em 0.45em; margin: 0 0.25em; line-height: 2.25;\n",
       "            border-radius: 0.25em; box-decoration-break: clone; -webkit-box-decoration-break: clone\">\n",
       "                for\n",
       "            </mark>\n",
       "            \n",
       "            <mark class=\"entity\" style=\"background: #fefeff; padding: 0.3em 0.45em; margin: 0 0.25em; line-height: 2.25;\n",
       "            border-radius: 0.25em; box-decoration-break: clone; -webkit-box-decoration-break: clone\">\n",
       "                laura\n",
       "            </mark>\n",
       "            \n",
       "            <mark class=\"entity\" style=\"background: #d9d9ff; padding: 0.3em 0.45em; margin: 0 0.25em; line-height: 2.25;\n",
       "            border-radius: 0.25em; box-decoration-break: clone; -webkit-box-decoration-break: clone\">\n",
       "                fraser\n",
       "            </mark>\n",
       "            \n",
       "            <mark class=\"entity\" style=\"background: #ff5a5a; padding: 0.3em 0.45em; margin: 0 0.25em; line-height: 2.25;\n",
       "            border-radius: 0.25em; box-decoration-break: clone; -webkit-box-decoration-break: clone\">\n",
       "                ,\n",
       "            </mark>\n",
       "            \n",
       "            <mark class=\"entity\" style=\"background: #efefff; padding: 0.3em 0.45em; margin: 0 0.25em; line-height: 2.25;\n",
       "            border-radius: 0.25em; box-decoration-break: clone; -webkit-box-decoration-break: clone\">\n",
       "                who\n",
       "            </mark>\n",
       "            \n",
       "            <mark class=\"entity\" style=\"background: #f4f4ff; padding: 0.3em 0.45em; margin: 0 0.25em; line-height: 2.25;\n",
       "            border-radius: 0.25em; box-decoration-break: clone; -webkit-box-decoration-break: clone\">\n",
       "                im\n",
       "            </mark>\n",
       "            \n",
       "            <mark class=\"entity\" style=\"background: #fdfdff; padding: 0.3em 0.45em; margin: 0 0.25em; line-height: 2.25;\n",
       "            border-radius: 0.25em; box-decoration-break: clone; -webkit-box-decoration-break: clone\">\n",
       "                ##ho\n",
       "            </mark>\n",
       "            \n",
       "            <mark class=\"entity\" style=\"background: #fff9f9; padding: 0.3em 0.45em; margin: 0 0.25em; line-height: 2.25;\n",
       "            border-radius: 0.25em; box-decoration-break: clone; -webkit-box-decoration-break: clone\">\n",
       "                is\n",
       "            </mark>\n",
       "            \n",
       "            <mark class=\"entity\" style=\"background: #f1f1ff; padding: 0.3em 0.45em; margin: 0 0.25em; line-height: 2.25;\n",
       "            border-radius: 0.25em; box-decoration-break: clone; -webkit-box-decoration-break: clone\">\n",
       "                fit\n",
       "            </mark>\n",
       "            \n",
       "            <mark class=\"entity\" style=\"background: #fffcfc; padding: 0.3em 0.45em; margin: 0 0.25em; line-height: 2.25;\n",
       "            border-radius: 0.25em; box-decoration-break: clone; -webkit-box-decoration-break: clone\">\n",
       "                !\n",
       "            </mark>\n",
       "            </div></span>"
      ],
      "text/plain": [
       "<IPython.core.display.HTML object>"
      ]
     },
     "metadata": {},
     "output_type": "display_data"
    }
   ],
   "source": [
    "heatmap = tu0.render(jupyter=True)\n",
    "heatmap"
   ]
  },
  {
   "cell_type": "markdown",
   "metadata": {},
   "source": [
    "# Aggregate data\n",
    "Let us first compare the heatmaps of two different models on the same dataset+explainer configuration, MNLI + Occlusion."
   ]
  },
  {
   "cell_type": "code",
   "execution_count": 12,
   "metadata": {},
   "outputs": [
    {
     "name": "stderr",
     "output_type": "stream",
     "text": [
      "Reusing dataset thermostat (/home/nfel/.cache/huggingface/datasets/thermostat/mnli-electra-occ/1.0.0/82ada9d63d3c6b421a4ade89adc656b856fe9924abbc5cc94f20d472f5c71e99)\n"
     ]
    },
    {
     "data": {
      "application/vnd.jupyter.widget-view+json": {
       "model_id": "3b0b1e46997d4b43875e3efbcf2b5e04",
       "version_major": 2,
       "version_minor": 0
      },
      "text/plain": [
       "HBox(children=(FloatProgress(value=0.0, description='Downloading', max=916.0, style=ProgressStyle(description_…"
      ]
     },
     "metadata": {},
     "output_type": "display_data"
    },
    {
     "name": "stdout",
     "output_type": "stream",
     "text": [
      "\n"
     ]
    },
    {
     "data": {
      "application/vnd.jupyter.widget-view+json": {
       "model_id": "52cfcbb6add8483c805d3707f218649c",
       "version_major": 2,
       "version_minor": 0
      },
      "text/plain": [
       "HBox(children=(FloatProgress(value=0.0, description='Downloading', max=231508.0, style=ProgressStyle(descripti…"
      ]
     },
     "metadata": {},
     "output_type": "display_data"
    },
    {
     "name": "stdout",
     "output_type": "stream",
     "text": [
      "\n"
     ]
    },
    {
     "data": {
      "application/vnd.jupyter.widget-view+json": {
       "model_id": "bbfe97b037134c9fabf070b8787910cf",
       "version_major": 2,
       "version_minor": 0
      },
      "text/plain": [
       "HBox(children=(FloatProgress(value=0.0, description='Downloading', max=112.0, style=ProgressStyle(description_…"
      ]
     },
     "metadata": {},
     "output_type": "display_data"
    },
    {
     "name": "stdout",
     "output_type": "stream",
     "text": [
      "\n"
     ]
    },
    {
     "data": {
      "application/vnd.jupyter.widget-view+json": {
       "model_id": "dff7f6d44ea441b08b348da8909ec73b",
       "version_major": 2,
       "version_minor": 0
      },
      "text/plain": [
       "HBox(children=(FloatProgress(value=0.0, description='Downloading', max=301.0, style=ProgressStyle(description_…"
      ]
     },
     "metadata": {},
     "output_type": "display_data"
    },
    {
     "name": "stdout",
     "output_type": "stream",
     "text": [
      "\n",
      "Downloading and preparing dataset thermostat/mnli-bert-occ (download: Unknown size, generated: Unknown size, post-processed: Unknown size, total: Unknown size) to /home/nfel/.cache/huggingface/datasets/thermostat/mnli-bert-occ/1.0.0/82ada9d63d3c6b421a4ade89adc656b856fe9924abbc5cc94f20d472f5c71e99...\n"
     ]
    },
    {
     "data": {
      "application/vnd.jupyter.widget-view+json": {
       "model_id": "529aa16b98dc43d49382fe0fde270063",
       "version_major": 2,
       "version_minor": 0
      },
      "text/plain": [
       "HBox(children=(FloatProgress(value=1.0, bar_style='info', description='Downloading', layout=Layout(width='20px…"
      ]
     },
     "metadata": {},
     "output_type": "display_data"
    },
    {
     "name": "stdout",
     "output_type": "stream",
     "text": [
      "\n"
     ]
    },
    {
     "data": {
      "application/vnd.jupyter.widget-view+json": {
       "model_id": "",
       "version_major": 2,
       "version_minor": 0
      },
      "text/plain": [
       "HBox(children=(FloatProgress(value=1.0, bar_style='info', layout=Layout(width='20px'), max=1.0), HTML(value=''…"
      ]
     },
     "metadata": {},
     "output_type": "display_data"
    },
    {
     "name": "stdout",
     "output_type": "stream",
     "text": [
      "Dataset thermostat downloaded and prepared to /home/nfel/.cache/huggingface/datasets/thermostat/mnli-bert-occ/1.0.0/82ada9d63d3c6b421a4ade89adc656b856fe9924abbc5cc94f20d472f5c71e99. Subsequent calls will reuse this data.\n"
     ]
    },
    {
     "data": {
      "application/vnd.jupyter.widget-view+json": {
       "model_id": "cde5147252c74069bcea8116a246d279",
       "version_major": 2,
       "version_minor": 0
      },
      "text/plain": [
       "HBox(children=(FloatProgress(value=0.0, description='Downloading', max=630.0, style=ProgressStyle(description_…"
      ]
     },
     "metadata": {},
     "output_type": "display_data"
    },
    {
     "name": "stdout",
     "output_type": "stream",
     "text": [
      "\n"
     ]
    },
    {
     "data": {
      "application/vnd.jupyter.widget-view+json": {
       "model_id": "49970d5828224b359084cd122c8e1f18",
       "version_major": 2,
       "version_minor": 0
      },
      "text/plain": [
       "HBox(children=(FloatProgress(value=0.0, description='Downloading', max=231508.0, style=ProgressStyle(descripti…"
      ]
     },
     "metadata": {},
     "output_type": "display_data"
    },
    {
     "name": "stdout",
     "output_type": "stream",
     "text": [
      "\n"
     ]
    },
    {
     "data": {
      "application/vnd.jupyter.widget-view+json": {
       "model_id": "42a64d58d2a34473b2b75db2116ada7d",
       "version_major": 2,
       "version_minor": 0
      },
      "text/plain": [
       "HBox(children=(FloatProgress(value=0.0, description='Downloading', max=112.0, style=ProgressStyle(description_…"
      ]
     },
     "metadata": {},
     "output_type": "display_data"
    },
    {
     "name": "stdout",
     "output_type": "stream",
     "text": [
      "\n"
     ]
    },
    {
     "data": {
      "application/vnd.jupyter.widget-view+json": {
       "model_id": "4be531025a93472abdfe2027e529193d",
       "version_major": 2,
       "version_minor": 0
      },
      "text/plain": [
       "HBox(children=(FloatProgress(value=0.0, description='Downloading', max=48.0, style=ProgressStyle(description_w…"
      ]
     },
     "metadata": {},
     "output_type": "display_data"
    },
    {
     "name": "stdout",
     "output_type": "stream",
     "text": [
      "\n"
     ]
    }
   ],
   "source": [
    "xlnet = load_dataset(\"thermostat\", \"mnli-electra-occ\", split=\"test\")\n",
    "xlnet_head = xlnet.select(range(20))\n",
    "tp_xlnet = thermostat.Thermopack(xlnet_head)\n",
    "\n",
    "bert = load_dataset(\"thermostat\", \"mnli-bert-occ\", split=\"test\")\n",
    "bert_head = bert.select(range(20))\n",
    "tp_bert = thermostat.Thermopack(bert_head)"
   ]
  },
  {
   "cell_type": "code",
   "execution_count": null,
   "metadata": {},
   "outputs": [],
   "source": []
  }
 ],
 "metadata": {
  "kernelspec": {
   "display_name": "Python 3",
   "language": "python",
   "name": "python3"
  },
  "language_info": {
   "codemirror_mode": {
    "name": "ipython",
    "version": 3
   },
   "file_extension": ".py",
   "mimetype": "text/x-python",
   "name": "python",
   "nbconvert_exporter": "python",
   "pygments_lexer": "ipython3",
   "version": "3.6.9"
  }
 },
 "nbformat": 4,
 "nbformat_minor": 1
}
