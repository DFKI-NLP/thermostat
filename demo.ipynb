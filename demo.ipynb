{
 "cells": [
  {
   "cell_type": "markdown",
   "metadata": {},
   "source": [
    "# Thermostat demo\n",
    "### This notebook is an introduction to Thermostat, to both the data hub and collection of explanation data (feature attribution maps) and the accompanying convenience functions for analysis of the maps."
   ]
  },
  {
   "cell_type": "markdown",
   "metadata": {},
   "source": [
    "To start off, we have to install the dependencies."
   ]
  },
  {
   "cell_type": "code",
   "execution_count": 2,
   "metadata": {},
   "outputs": [
    {
     "name": "stdout",
     "output_type": "stream",
     "text": [
      "Defaulting to user installation because normal site-packages is not writeable\n",
      "Requirement already satisfied: pip in /home/nfel/.local/lib/python3.6/site-packages (21.1.2)\n",
      "Collecting pip\n",
      "  Downloading pip-21.1.3-py3-none-any.whl (1.5 MB)\n",
      "\u001b[K     |████████████████████████████████| 1.5 MB 2.1 MB/s eta 0:00:01\n",
      "\u001b[?25hInstalling collected packages: pip\n",
      "  Attempting uninstall: pip\n",
      "    Found existing installation: pip 21.1.2\n",
      "    Uninstalling pip-21.1.2:\n",
      "      Successfully uninstalled pip-21.1.2\n",
      "Successfully installed pip-21.1.3\n",
      "Defaulting to user installation because normal site-packages is not writeable\n",
      "Requirement already satisfied: cmake in /home/nfel/.local/lib/python3.6/site-packages (3.20.3)\n",
      "Defaulting to user installation because normal site-packages is not writeable\n",
      "Requirement already satisfied: cython in /home/nfel/.local/lib/python3.6/site-packages (0.29.23)\n",
      "Defaulting to user installation because normal site-packages is not writeable\n",
      "Requirement already satisfied: numpy in /home/nfel/.local/lib/python3.6/site-packages (1.19.5)\n",
      "Defaulting to user installation because normal site-packages is not writeable\n",
      "Requirement already satisfied: torch in /home/nfel/.local/lib/python3.6/site-packages (1.9.0)\n",
      "Requirement already satisfied: dataclasses in /home/nfel/.local/lib/python3.6/site-packages (from torch) (0.8)\n",
      "Requirement already satisfied: typing-extensions in /home/nfel/.local/lib/python3.6/site-packages (from torch) (3.10.0.0)\n",
      "Defaulting to user installation because normal site-packages is not writeable\n",
      "Requirement already satisfied: datasets in /home/nfel/.local/lib/python3.6/site-packages (1.8.0)\n",
      "Requirement already satisfied: dataclasses in /home/nfel/.local/lib/python3.6/site-packages (from datasets) (0.8)\n",
      "Requirement already satisfied: importlib-metadata in /home/nfel/.local/lib/python3.6/site-packages (from datasets) (4.5.0)\n",
      "Requirement already satisfied: xxhash in /home/nfel/.local/lib/python3.6/site-packages (from datasets) (2.0.2)\n",
      "Requirement already satisfied: requests>=2.19.0 in /home/nfel/.local/lib/python3.6/site-packages (from datasets) (2.25.1)\n",
      "Requirement already satisfied: pyarrow<4.0.0,>=1.0.0 in /home/nfel/.local/lib/python3.6/site-packages (from datasets) (3.0.0)\n",
      "Requirement already satisfied: pandas in /home/nfel/.local/lib/python3.6/site-packages (from datasets) (1.1.5)\n",
      "Requirement already satisfied: tqdm<4.50.0,>=4.27 in /home/nfel/.local/lib/python3.6/site-packages (from datasets) (4.49.0)\n",
      "Requirement already satisfied: multiprocess in /home/nfel/.local/lib/python3.6/site-packages (from datasets) (0.70.12.2)\n",
      "Requirement already satisfied: dill in /home/nfel/.local/lib/python3.6/site-packages (from datasets) (0.3.4)\n",
      "Requirement already satisfied: packaging in /home/nfel/.local/lib/python3.6/site-packages (from datasets) (20.9)\n",
      "Requirement already satisfied: numpy>=1.17 in /home/nfel/.local/lib/python3.6/site-packages (from datasets) (1.19.5)\n",
      "Requirement already satisfied: huggingface-hub<0.1.0 in /home/nfel/.local/lib/python3.6/site-packages (from datasets) (0.0.8)\n",
      "Requirement already satisfied: fsspec in /home/nfel/.local/lib/python3.6/site-packages (from datasets) (2021.6.0)\n",
      "Requirement already satisfied: filelock in /home/nfel/.local/lib/python3.6/site-packages (from huggingface-hub<0.1.0->datasets) (3.0.12)\n",
      "Requirement already satisfied: chardet<5,>=3.0.2 in /home/nfel/.local/lib/python3.6/site-packages (from requests>=2.19.0->datasets) (4.0.0)\n",
      "Requirement already satisfied: urllib3<1.27,>=1.21.1 in /home/nfel/.local/lib/python3.6/site-packages (from requests>=2.19.0->datasets) (1.26.5)\n",
      "Requirement already satisfied: idna<3,>=2.5 in /home/nfel/.local/lib/python3.6/site-packages (from requests>=2.19.0->datasets) (2.10)\n",
      "Requirement already satisfied: certifi>=2017.4.17 in /home/nfel/.local/lib/python3.6/site-packages (from requests>=2.19.0->datasets) (2021.5.30)\n",
      "Requirement already satisfied: typing-extensions>=3.6.4 in /home/nfel/.local/lib/python3.6/site-packages (from importlib-metadata->datasets) (3.10.0.0)\n",
      "Requirement already satisfied: zipp>=0.5 in /home/nfel/.local/lib/python3.6/site-packages (from importlib-metadata->datasets) (3.4.1)\n",
      "Requirement already satisfied: pyparsing>=2.0.2 in /home/nfel/.local/lib/python3.6/site-packages (from packaging->datasets) (2.4.7)\n",
      "Requirement already satisfied: pytz>=2017.2 in /home/nfel/.local/lib/python3.6/site-packages (from pandas->datasets) (2021.1)\n",
      "Requirement already satisfied: python-dateutil>=2.7.3 in /home/nfel/.local/lib/python3.6/site-packages (from pandas->datasets) (2.8.1)\n",
      "Requirement already satisfied: six>=1.5 in /home/nfel/.local/lib/python3.6/site-packages (from python-dateutil>=2.7.3->pandas->datasets) (1.16.0)\n",
      "Defaulting to user installation because normal site-packages is not writeable\n",
      "Requirement already satisfied: spacy in /home/nfel/.local/lib/python3.6/site-packages (3.0.6)\n",
      "Requirement already satisfied: jinja2 in /home/nfel/.local/lib/python3.6/site-packages (from spacy) (3.0.1)\n",
      "Requirement already satisfied: wasabi<1.1.0,>=0.8.1 in /home/nfel/.local/lib/python3.6/site-packages (from spacy) (0.8.2)\n",
      "Requirement already satisfied: murmurhash<1.1.0,>=0.28.0 in /home/nfel/.local/lib/python3.6/site-packages (from spacy) (1.0.5)\n",
      "Requirement already satisfied: pydantic<1.8.0,>=1.7.1 in /home/nfel/.local/lib/python3.6/site-packages (from spacy) (1.7.4)\n",
      "Requirement already satisfied: requests<3.0.0,>=2.13.0 in /home/nfel/.local/lib/python3.6/site-packages (from spacy) (2.25.1)\n",
      "Requirement already satisfied: pathy>=0.3.5 in /home/nfel/.local/lib/python3.6/site-packages (from spacy) (0.5.2)\n",
      "Requirement already satisfied: thinc<8.1.0,>=8.0.3 in /home/nfel/.local/lib/python3.6/site-packages (from spacy) (8.0.4)\n",
      "Requirement already satisfied: numpy>=1.15.0 in /home/nfel/.local/lib/python3.6/site-packages (from spacy) (1.19.5)\n",
      "Requirement already satisfied: packaging>=20.0 in /home/nfel/.local/lib/python3.6/site-packages (from spacy) (20.9)\n",
      "Requirement already satisfied: cymem<2.1.0,>=2.0.2 in /home/nfel/.local/lib/python3.6/site-packages (from spacy) (2.0.5)\n",
      "Requirement already satisfied: srsly<3.0.0,>=2.4.1 in /home/nfel/.local/lib/python3.6/site-packages (from spacy) (2.4.1)\n",
      "Requirement already satisfied: typing-extensions<4.0.0.0,>=3.7.4 in /home/nfel/.local/lib/python3.6/site-packages (from spacy) (3.10.0.0)\n",
      "Requirement already satisfied: spacy-legacy<3.1.0,>=3.0.4 in /home/nfel/.local/lib/python3.6/site-packages (from spacy) (3.0.6)\n",
      "Requirement already satisfied: preshed<3.1.0,>=3.0.2 in /home/nfel/.local/lib/python3.6/site-packages (from spacy) (3.0.5)\n",
      "Requirement already satisfied: tqdm<5.0.0,>=4.38.0 in /home/nfel/.local/lib/python3.6/site-packages (from spacy) (4.49.0)\n",
      "Requirement already satisfied: catalogue<2.1.0,>=2.0.3 in /home/nfel/.local/lib/python3.6/site-packages (from spacy) (2.0.4)\n",
      "Requirement already satisfied: typer<0.4.0,>=0.3.0 in /home/nfel/.local/lib/python3.6/site-packages (from spacy) (0.3.2)\n",
      "Requirement already satisfied: setuptools in /home/nfel/.local/lib/python3.6/site-packages (from spacy) (57.0.0)\n",
      "Requirement already satisfied: blis<0.8.0,>=0.4.0 in /home/nfel/.local/lib/python3.6/site-packages (from spacy) (0.7.4)\n",
      "Requirement already satisfied: zipp>=0.5 in /home/nfel/.local/lib/python3.6/site-packages (from catalogue<2.1.0,>=2.0.3->spacy) (3.4.1)\n",
      "Requirement already satisfied: pyparsing>=2.0.2 in /home/nfel/.local/lib/python3.6/site-packages (from packaging>=20.0->spacy) (2.4.7)\n",
      "Requirement already satisfied: smart-open<4.0.0,>=2.2.0 in /home/nfel/.local/lib/python3.6/site-packages (from pathy>=0.3.5->spacy) (3.0.0)\n",
      "Requirement already satisfied: dataclasses<1.0,>=0.6 in /home/nfel/.local/lib/python3.6/site-packages (from pathy>=0.3.5->spacy) (0.8)\n",
      "Requirement already satisfied: idna<3,>=2.5 in /home/nfel/.local/lib/python3.6/site-packages (from requests<3.0.0,>=2.13.0->spacy) (2.10)\n",
      "Requirement already satisfied: urllib3<1.27,>=1.21.1 in /home/nfel/.local/lib/python3.6/site-packages (from requests<3.0.0,>=2.13.0->spacy) (1.26.5)\n",
      "Requirement already satisfied: certifi>=2017.4.17 in /home/nfel/.local/lib/python3.6/site-packages (from requests<3.0.0,>=2.13.0->spacy) (2021.5.30)\n",
      "Requirement already satisfied: chardet<5,>=3.0.2 in /home/nfel/.local/lib/python3.6/site-packages (from requests<3.0.0,>=2.13.0->spacy) (4.0.0)\n"
     ]
    },
    {
     "name": "stdout",
     "output_type": "stream",
     "text": [
      "Requirement already satisfied: contextvars<3,>=2.4 in /home/nfel/.local/lib/python3.6/site-packages (from thinc<8.1.0,>=8.0.3->spacy) (2.4)\n",
      "Requirement already satisfied: immutables>=0.9 in /home/nfel/.local/lib/python3.6/site-packages (from contextvars<3,>=2.4->thinc<8.1.0,>=8.0.3->spacy) (0.15)\n",
      "Requirement already satisfied: click<7.2.0,>=7.1.1 in /home/nfel/.local/lib/python3.6/site-packages (from typer<0.4.0,>=0.3.0->spacy) (7.1.2)\n",
      "Requirement already satisfied: MarkupSafe>=2.0 in /home/nfel/.local/lib/python3.6/site-packages (from jinja2->spacy) (2.0.1)\n",
      "Defaulting to user installation because normal site-packages is not writeable\n",
      "Requirement already satisfied: sentencepiece in /home/nfel/.local/lib/python3.6/site-packages (0.1.95)\n",
      "Defaulting to user installation because normal site-packages is not writeable\n",
      "Requirement already satisfied: transformers in /home/nfel/.local/lib/python3.6/site-packages (4.6.1)\n",
      "Requirement already satisfied: tokenizers<0.11,>=0.10.1 in /home/nfel/.local/lib/python3.6/site-packages (from transformers) (0.10.3)\n",
      "Requirement already satisfied: huggingface-hub==0.0.8 in /home/nfel/.local/lib/python3.6/site-packages (from transformers) (0.0.8)\n",
      "Requirement already satisfied: tqdm>=4.27 in /home/nfel/.local/lib/python3.6/site-packages (from transformers) (4.49.0)\n",
      "Requirement already satisfied: importlib-metadata in /home/nfel/.local/lib/python3.6/site-packages (from transformers) (4.5.0)\n",
      "Requirement already satisfied: packaging in /home/nfel/.local/lib/python3.6/site-packages (from transformers) (20.9)\n",
      "Requirement already satisfied: sacremoses in /home/nfel/.local/lib/python3.6/site-packages (from transformers) (0.0.45)\n",
      "Requirement already satisfied: dataclasses in /home/nfel/.local/lib/python3.6/site-packages (from transformers) (0.8)\n",
      "Requirement already satisfied: filelock in /home/nfel/.local/lib/python3.6/site-packages (from transformers) (3.0.12)\n",
      "Requirement already satisfied: numpy>=1.17 in /home/nfel/.local/lib/python3.6/site-packages (from transformers) (1.19.5)\n",
      "Requirement already satisfied: regex!=2019.12.17 in /home/nfel/.local/lib/python3.6/site-packages (from transformers) (2021.4.4)\n",
      "Requirement already satisfied: requests in /home/nfel/.local/lib/python3.6/site-packages (from transformers) (2.25.1)\n",
      "Requirement already satisfied: typing-extensions>=3.6.4 in /home/nfel/.local/lib/python3.6/site-packages (from importlib-metadata->transformers) (3.10.0.0)\n",
      "Requirement already satisfied: zipp>=0.5 in /home/nfel/.local/lib/python3.6/site-packages (from importlib-metadata->transformers) (3.4.1)\n",
      "Requirement already satisfied: pyparsing>=2.0.2 in /home/nfel/.local/lib/python3.6/site-packages (from packaging->transformers) (2.4.7)\n",
      "Requirement already satisfied: certifi>=2017.4.17 in /home/nfel/.local/lib/python3.6/site-packages (from requests->transformers) (2021.5.30)\n",
      "Requirement already satisfied: chardet<5,>=3.0.2 in /home/nfel/.local/lib/python3.6/site-packages (from requests->transformers) (4.0.0)\n",
      "Requirement already satisfied: urllib3<1.27,>=1.21.1 in /home/nfel/.local/lib/python3.6/site-packages (from requests->transformers) (1.26.5)\n",
      "Requirement already satisfied: idna<3,>=2.5 in /home/nfel/.local/lib/python3.6/site-packages (from requests->transformers) (2.10)\n",
      "Requirement already satisfied: six in /home/nfel/.local/lib/python3.6/site-packages (from sacremoses->transformers) (1.16.0)\n",
      "Requirement already satisfied: click in /home/nfel/.local/lib/python3.6/site-packages (from sacremoses->transformers) (7.1.2)\n",
      "Requirement already satisfied: joblib in /home/nfel/.local/lib/python3.6/site-packages (from sacremoses->transformers) (1.0.1)\n",
      "Defaulting to user installation because normal site-packages is not writeable\n",
      "Requirement already satisfied: overrides in /home/nfel/.local/lib/python3.6/site-packages (6.1.0)\n",
      "Requirement already satisfied: typing-utils>=0.0.3 in /home/nfel/.local/lib/python3.6/site-packages (from overrides) (0.1.0)\n",
      "Defaulting to user installation because normal site-packages is not writeable\n",
      "Requirement already satisfied: jsonnet in /home/nfel/.local/lib/python3.6/site-packages (0.17.0)\n",
      "Defaulting to user installation because normal site-packages is not writeable\n",
      "Requirement already satisfied: sklearn in /home/nfel/.local/lib/python3.6/site-packages (0.0)\n",
      "Requirement already satisfied: scikit-learn in /home/nfel/.local/lib/python3.6/site-packages (from sklearn) (0.24.2)\n",
      "Requirement already satisfied: threadpoolctl>=2.0.0 in /home/nfel/.local/lib/python3.6/site-packages (from scikit-learn->sklearn) (2.1.0)\n",
      "Requirement already satisfied: numpy>=1.13.3 in /home/nfel/.local/lib/python3.6/site-packages (from scikit-learn->sklearn) (1.19.5)\n",
      "Requirement already satisfied: scipy>=0.19.1 in /home/nfel/.local/lib/python3.6/site-packages (from scikit-learn->sklearn) (1.5.4)\n",
      "Requirement already satisfied: joblib>=0.11 in /home/nfel/.local/lib/python3.6/site-packages (from scikit-learn->sklearn) (1.0.1)\n",
      "Defaulting to user installation because normal site-packages is not writeable\n",
      "Requirement already satisfied: pandas in /home/nfel/.local/lib/python3.6/site-packages (1.1.5)\n",
      "Requirement already satisfied: numpy>=1.15.4 in /home/nfel/.local/lib/python3.6/site-packages (from pandas) (1.19.5)\n",
      "Requirement already satisfied: pytz>=2017.2 in /home/nfel/.local/lib/python3.6/site-packages (from pandas) (2021.1)\n",
      "Requirement already satisfied: python-dateutil>=2.7.3 in /home/nfel/.local/lib/python3.6/site-packages (from pandas) (2.8.1)\n",
      "Requirement already satisfied: six>=1.5 in /home/nfel/.local/lib/python3.6/site-packages (from python-dateutil>=2.7.3->pandas) (1.16.0)\n"
     ]
    }
   ],
   "source": [
    "!pip3 install --upgrade pip\n",
    "!pip3 install cmake\n",
    "!pip3 install cython\n",
    "!pip3 install numpy\n",
    "!pip3 install torch\n",
    "!pip3 install datasets\n",
    "!pip3 install spacy\n",
    "!pip3 install sentencepiece\n",
    "!pip3 install transformers\n",
    "!pip3 install overrides\n",
    "!pip3 install jsonnet\n",
    "!pip3 install sklearn\n",
    "!pip3 install pandas"
   ]
  },
  {
   "cell_type": "markdown",
   "metadata": {},
   "source": [
    "Next, we import some utilities."
   ]
  },
  {
   "cell_type": "code",
   "execution_count": 1,
   "metadata": {},
   "outputs": [],
   "source": [
    "import warnings\n",
    "# Suppress warnings\n",
    "warnings.filterwarnings('ignore')\n",
    "\n",
    "import sys\n",
    "# Include root directory in module path\n",
    "sys.path.append('src')\n",
    "\n",
    "from pprint import pprint"
   ]
  },
  {
   "cell_type": "markdown",
   "metadata": {},
   "source": [
    "Now we can import our library."
   ]
  },
  {
   "cell_type": "code",
   "execution_count": 2,
   "metadata": {},
   "outputs": [],
   "source": [
    "import thermostat"
   ]
  },
  {
   "cell_type": "markdown",
   "metadata": {},
   "source": [
    "# Load dataset\n",
    "\n",
    "Let's use the `load` method which is a wrapper around the `load_dataset` function from HF `datasets`.\n",
    "In the background, this uses the dataset script (\"hf_dataset.py\") in the \"thermostat\" directory.\n",
    "\n",
    "In this example, we use the `imdb-bert-lig` configuration.\n",
    "This refers to **Layer Integrated Gradients** (LIG) explanations of the predictions by a **BERT** model that has been fine-tuned on the **IMDb** (train) dataset and evaluated on the **IMDb** test dataset.\n",
    "In other words, we load the 25k test examples from the IMDb test plus the BERT predictions and the feature attributions from a Layer Integrated Gradients explainer."
   ]
  },
  {
   "cell_type": "code",
   "execution_count": 3,
   "metadata": {
    "pycharm": {
     "name": "#%%\n"
    }
   },
   "outputs": [
    {
     "name": "stdout",
     "output_type": "stream",
     "text": [
      "Loading Thermostat configuration: ag_news-bert-lime-100\n",
      "Downloading and preparing dataset thermostat/ag_news-bert-lime-100 to C:\\Users\\49176\\.cache\\huggingface\\datasets\\thermostat\\ag_news-bert-lime-100\\1.0.1\\0cbe93e1fbe5b8ed0217559442d8b49a80fd4c2787185f2d7940817c67d8707b...\n"
     ]
    },
    {
     "data": {
      "application/vnd.jupyter.widget-view+json": {
       "model_id": "10bcd13dc63844e4b73e7f382f9e2a7c",
       "version_major": 2,
       "version_minor": 0
      },
      "text/plain": [
       "Downloading:   0%|          | 0.00/48.2M [00:00<?, ?B/s]"
      ]
     },
     "metadata": {},
     "output_type": "display_data"
    },
    {
     "data": {
      "application/vnd.jupyter.widget-view+json": {
       "model_id": "",
       "version_major": 2,
       "version_minor": 0
      },
      "text/plain": [
       "0 examples [00:00, ? examples/s]"
      ]
     },
     "metadata": {},
     "output_type": "display_data"
    },
    {
     "name": "stdout",
     "output_type": "stream",
     "text": [
      "Dataset thermostat downloaded and prepared to C:\\Users\\49176\\.cache\\huggingface\\datasets\\thermostat\\ag_news-bert-lime-100\\1.0.1\\0cbe93e1fbe5b8ed0217559442d8b49a80fd4c2787185f2d7940817c67d8707b. Subsequent calls will reuse this data.\n"
     ]
    }
   ],
   "source": [
    "lig = thermostat.load(\"ag_news-bert-lime-100\")"
   ]
  },
  {
   "cell_type": "markdown",
   "metadata": {},
   "source": [
    "Let's see what's inside the loaded dataset:"
   ]
  },
  {
   "cell_type": "code",
   "execution_count": 4,
   "metadata": {},
   "outputs": [
    {
     "name": "stdout",
     "output_type": "stream",
     "text": [
      "AG News dataset, BERT model, LIME explanations, 100 samples\n",
      "Dataset: ag_news\n",
      "Model: textattack/bert-base-uncased-ag-news\n",
      "Explainer: LimeBase\n",
      "\n"
     ]
    }
   ],
   "source": [
    "print(lig)"
   ]
  },
  {
   "cell_type": "markdown",
   "metadata": {},
   "source": [
    "Now let's inspect a single instance of the loaded dataset.\n",
    "For readability purposes, we will not print the whole content of that instance.\n",
    "Instead, we're showing only the first few entries of the attributions and the input_ids, respectively."
   ]
  },
  {
   "cell_type": "code",
   "execution_count": 5,
   "metadata": {},
   "outputs": [
    {
     "name": "stdout",
     "output_type": "stream",
     "text": [
      "Index: 429\n",
      "Attributions (first 4): [0.0, -2.546515861467924e-05, 0.00011155286483699456, 0.0002800458169076592]\n",
      "True label: Sci/Tech\n",
      "Predicted label: Sci/Tech\n"
     ]
    }
   ],
   "source": [
    "example = lig[429]\n",
    "\n",
    "print(f'Index: {example.idx}')\n",
    "print(f'Attributions (first 4): {example.attributions[:4]}')\n",
    "print(f'True label: {example.true_label}')\n",
    "print(f'Predicted label: {example.predicted_label}')"
   ]
  },
  {
   "cell_type": "markdown",
   "metadata": {},
   "source": [
    "We can also print a heatmap of token-attribution tuples via the `explanation` attribute of an instance."
   ]
  },
  {
   "cell_type": "code",
   "execution_count": 6,
   "metadata": {},
   "outputs": [
    {
     "name": "stdout",
     "output_type": "stream",
     "text": [
      "[('[CLS]', 0.0, 0),\n",
      " ('stunt', -2.546515861467924e-05, 1),\n",
      " ('pilots', 0.00011155286483699456, 2),\n",
      " ('to', 0.0002800458169076592, 3),\n",
      " ('s', 0.0005430751480162144, 4),\n",
      " ('##na', 0.00019418592273723334, 5),\n",
      " ('##g', -0.00031486275838688016, 6),\n",
      " ('a', -0.0006967579247429967, 7),\n",
      " ('falling', 3.421621613597381e-06, 8),\n",
      " ('nasa', 0.0003259600780438632, 9),\n",
      " ('craft', 0.00020356148888822645, 10),\n",
      " ('nasa', 0.00030730877188034356, 11),\n",
      " ('#', 0.0011188226053491235, 12),\n",
      " ('39', 0.00013333074457477778, 13),\n",
      " (';', 4.2671450501075014e-05, 14),\n",
      " ('s', 0.0009039245778694749, 15),\n",
      " ('three', -3.066950375796296e-05, 16),\n",
      " ('-', -0.00011021247337339446, 17),\n",
      " ('year', 0.0002888077578973025, 18),\n",
      " ('effort', -6.449802458519116e-05, 19),\n",
      " ('to', -5.040947507950477e-05, 20),\n",
      " ('bring', -0.00012397475074976683, 21),\n",
      " ('some', 0.00015303328109439462, 22),\n",
      " ('genuine', 1.9381795937079005e-05, 23),\n",
      " ('star', -3.429375965424697e-06, 24),\n",
      " ('dust', 5.8175814046990126e-05, 25),\n",
      " ('back', 0.00014667658251710236, 26),\n",
      " ('to', 1.4611263395636342e-05, 27),\n",
      " ('earth', 0.00013083871454000473, 28),\n",
      " ('is', 2.029598363151308e-05, 29),\n",
      " ('set', -6.234086413314799e-06, 30),\n",
      " ('for', 2.134645910700783e-05, 31),\n",
      " ('a', 0.00045147069613449275, 32),\n",
      " ('dramatic', -2.559149288572371e-05, 33),\n",
      " ('finale', -3.0344712286023423e-05, 34),\n",
      " ('sept', -3.6652039852924645e-05, 35),\n",
      " ('.', -0.00013238951214589179, 36),\n",
      " ('8', -0.00021604847279377282, 37),\n",
      " ('when', -0.00015069040819071233, 38),\n",
      " ('hollywood', 7.264591113198549e-05, 39),\n",
      " ('helicopter', -1.3477208995027468e-05, 40),\n",
      " ('pilots', 2.2916558009455912e-05, 41),\n",
      " ('will', 0.00016682370915077627, 42),\n",
      " ('attempt', 0.00018367245502304286, 43),\n",
      " ('a', -0.0004249276244081557, 44),\n",
      " ('mid', 8.17780673969537e-05, 45),\n",
      " ('##air', -3.6297328733780887e-06, 46),\n",
      " ('retrieval', -1.3578447578765918e-05, 47),\n",
      " ('[SEP]', 0.0, 48)]\n"
     ]
    }
   ],
   "source": [
    "pprint(example.explanation)"
   ]
  },
  {
   "cell_type": "markdown",
   "metadata": {},
   "source": [
    "Another option is printing it as a `pandas` DataFrame which is accessible via the `.heatmap` attribute."
   ]
  },
  {
   "cell_type": "code",
   "execution_count": 7,
   "metadata": {},
   "outputs": [
    {
     "name": "stdout",
     "output_type": "stream",
     "text": [
      "token_index     0         1         2         3         4        7         8   \\\n",
      "token        [CLS]     stunt    pilots        to      snag        a   falling   \n",
      "attribution    0.0 -0.022761  0.099706  0.250304  0.485399 -0.62276  0.003058   \n",
      "text_field    text      text      text      text      text     text      text   \n",
      "\n",
      "token_index        9         10        11    12        13       14        15  \\\n",
      "token            nasa     craft      nasa     #        39        ;         s   \n",
      "attribution  0.291342  0.181943  0.274672   1.0  0.119171  0.03814  0.807925   \n",
      "text_field       text      text      text  text      text     text      text   \n",
      "\n",
      "token_index        16        17        18        19        20        21  \\\n",
      "token           three         -      year    effort        to     bring   \n",
      "attribution -0.027412 -0.098508  0.258135 -0.057648 -0.045056 -0.110808   \n",
      "text_field       text      text      text      text      text      text   \n",
      "\n",
      "token_index        22        23        24        25        26        27  \\\n",
      "token            some   genuine      star      dust      back        to   \n",
      "attribution  0.136781  0.017323 -0.003065  0.051997  0.131099  0.013059   \n",
      "text_field       text      text      text      text      text      text   \n",
      "\n",
      "token_index        28       29        30        31        32        33  \\\n",
      "token           earth       is       set       for         a  dramatic   \n",
      "attribution  0.116943  0.01814 -0.005572  0.019079  0.403523 -0.022874   \n",
      "text_field       text     text      text      text      text      text   \n",
      "\n",
      "token_index        34        35        36        37        38         39  \\\n",
      "token          finale      sept         .         8      when  hollywood   \n",
      "attribution -0.027122 -0.032759 -0.118329 -0.193103 -0.134687   0.064931   \n",
      "text_field       text      text      text      text      text       text   \n",
      "\n",
      "token_index          40        41        42        43        44        45  \\\n",
      "token        helicopter    pilots      will   attempt         a    midair   \n",
      "attribution   -0.012046  0.020483  0.149106  0.164166 -0.379799  0.073093   \n",
      "text_field         text      text      text      text      text      text   \n",
      "\n",
      "token_index         47     48  \n",
      "token        retrieval  [SEP]  \n",
      "attribution  -0.012136    0.0  \n",
      "text_field        text   text  \n"
     ]
    }
   ],
   "source": [
    "import pandas as pd\n",
    "pd.set_option('display.max_columns', None)\n",
    "\n",
    "print(example.heatmap)"
   ]
  },
  {
   "cell_type": "markdown",
   "metadata": {},
   "source": [
    "# Visualize data\n",
    "Now the much more visually pleasing way is to turn the attribution scores into colors and display the heatmap using the displaCy (spaCy) library. We can do this with the `.render()` function."
   ]
  },
  {
   "cell_type": "code",
   "execution_count": 8,
   "metadata": {},
   "outputs": [
    {
     "data": {
      "text/html": [
       "<span class=\"tex2jax_ignore\"><div class=\"entities\" style=\"line-height: 2.5; direction: ltr\">\n",
       "            <mark class=\"entity\" style=\"background: #ffffff; padding: 0.15em 0.3em; margin: 0 0.2em; line-height: 2.2;\n",
       "            border-radius: 0.25em; box-decoration-break: clone; -webkit-box-decoration-break: clone\">\n",
       "                [CLS]\n",
       "            </mark>\n",
       "            \n",
       "            <mark class=\"entity\" style=\"background: #f9f9ff; padding: 0.15em 0.3em; margin: 0 0.2em; line-height: 2.2;\n",
       "            border-radius: 0.25em; box-decoration-break: clone; -webkit-box-decoration-break: clone\">\n",
       "                stunt\n",
       "            </mark>\n",
       "            \n",
       "            <mark class=\"entity\" style=\"background: #ffe5e5; padding: 0.15em 0.3em; margin: 0 0.2em; line-height: 2.2;\n",
       "            border-radius: 0.25em; box-decoration-break: clone; -webkit-box-decoration-break: clone\">\n",
       "                pilots\n",
       "            </mark>\n",
       "            \n",
       "            <mark class=\"entity\" style=\"background: #ffbfbf; padding: 0.15em 0.3em; margin: 0 0.2em; line-height: 2.2;\n",
       "            border-radius: 0.25em; box-decoration-break: clone; -webkit-box-decoration-break: clone\">\n",
       "                to\n",
       "            </mark>\n",
       "            \n",
       "            <mark class=\"entity\" style=\"background: #ff8383; padding: 0.15em 0.3em; margin: 0 0.2em; line-height: 2.2;\n",
       "            border-radius: 0.25em; box-decoration-break: clone; -webkit-box-decoration-break: clone\">\n",
       "                snag\n",
       "            </mark>\n",
       "            \n",
       "            <mark class=\"entity\" style=\"background: #6060ff; padding: 0.15em 0.3em; margin: 0 0.2em; line-height: 2.2;\n",
       "            border-radius: 0.25em; box-decoration-break: clone; -webkit-box-decoration-break: clone\">\n",
       "                a\n",
       "            </mark>\n",
       "            \n",
       "            <mark class=\"entity\" style=\"background: #fffefe; padding: 0.15em 0.3em; margin: 0 0.2em; line-height: 2.2;\n",
       "            border-radius: 0.25em; box-decoration-break: clone; -webkit-box-decoration-break: clone\">\n",
       "                falling\n",
       "            </mark>\n",
       "            \n",
       "            <mark class=\"entity\" style=\"background: #ffb4b4; padding: 0.15em 0.3em; margin: 0 0.2em; line-height: 2.2;\n",
       "            border-radius: 0.25em; box-decoration-break: clone; -webkit-box-decoration-break: clone\">\n",
       "                nasa\n",
       "            </mark>\n",
       "            \n",
       "            <mark class=\"entity\" style=\"background: #ffd0d0; padding: 0.15em 0.3em; margin: 0 0.2em; line-height: 2.2;\n",
       "            border-radius: 0.25em; box-decoration-break: clone; -webkit-box-decoration-break: clone\">\n",
       "                craft\n",
       "            </mark>\n",
       "            \n",
       "            <mark class=\"entity\" style=\"background: #ffb8b8; padding: 0.15em 0.3em; margin: 0 0.2em; line-height: 2.2;\n",
       "            border-radius: 0.25em; box-decoration-break: clone; -webkit-box-decoration-break: clone\">\n",
       "                nasa\n",
       "            </mark>\n",
       "            \n",
       "            <mark class=\"entity\" style=\"background: #ff0000; padding: 0.15em 0.3em; margin: 0 0.2em; line-height: 2.2;\n",
       "            border-radius: 0.25em; box-decoration-break: clone; -webkit-box-decoration-break: clone\">\n",
       "                #\n",
       "            </mark>\n",
       "            \n",
       "            <mark class=\"entity\" style=\"background: #ffe0e0; padding: 0.15em 0.3em; margin: 0 0.2em; line-height: 2.2;\n",
       "            border-radius: 0.25em; box-decoration-break: clone; -webkit-box-decoration-break: clone\">\n",
       "                39\n",
       "            </mark>\n",
       "            \n",
       "            <mark class=\"entity\" style=\"background: #fff5f5; padding: 0.15em 0.3em; margin: 0 0.2em; line-height: 2.2;\n",
       "            border-radius: 0.25em; box-decoration-break: clone; -webkit-box-decoration-break: clone\">\n",
       "                ;\n",
       "            </mark>\n",
       "            \n",
       "            <mark class=\"entity\" style=\"background: #ff3030; padding: 0.15em 0.3em; margin: 0 0.2em; line-height: 2.2;\n",
       "            border-radius: 0.25em; box-decoration-break: clone; -webkit-box-decoration-break: clone\">\n",
       "                s\n",
       "            </mark>\n",
       "            \n",
       "            <mark class=\"entity\" style=\"background: #f8f8ff; padding: 0.15em 0.3em; margin: 0 0.2em; line-height: 2.2;\n",
       "            border-radius: 0.25em; box-decoration-break: clone; -webkit-box-decoration-break: clone\">\n",
       "                three\n",
       "            </mark>\n",
       "            \n",
       "            <mark class=\"entity\" style=\"background: #e5e5ff; padding: 0.15em 0.3em; margin: 0 0.2em; line-height: 2.2;\n",
       "            border-radius: 0.25em; box-decoration-break: clone; -webkit-box-decoration-break: clone\">\n",
       "                -\n",
       "            </mark>\n",
       "            \n",
       "            <mark class=\"entity\" style=\"background: #ffbdbd; padding: 0.15em 0.3em; margin: 0 0.2em; line-height: 2.2;\n",
       "            border-radius: 0.25em; box-decoration-break: clone; -webkit-box-decoration-break: clone\">\n",
       "                year\n",
       "            </mark>\n",
       "            \n",
       "            <mark class=\"entity\" style=\"background: #f0f0ff; padding: 0.15em 0.3em; margin: 0 0.2em; line-height: 2.2;\n",
       "            border-radius: 0.25em; box-decoration-break: clone; -webkit-box-decoration-break: clone\">\n",
       "                effort\n",
       "            </mark>\n",
       "            \n",
       "            <mark class=\"entity\" style=\"background: #f3f3ff; padding: 0.15em 0.3em; margin: 0 0.2em; line-height: 2.2;\n",
       "            border-radius: 0.25em; box-decoration-break: clone; -webkit-box-decoration-break: clone\">\n",
       "                to\n",
       "            </mark>\n",
       "            \n",
       "            <mark class=\"entity\" style=\"background: #e2e2ff; padding: 0.15em 0.3em; margin: 0 0.2em; line-height: 2.2;\n",
       "            border-radius: 0.25em; box-decoration-break: clone; -webkit-box-decoration-break: clone\">\n",
       "                bring\n",
       "            </mark>\n",
       "            \n",
       "            <mark class=\"entity\" style=\"background: #ffdcdc; padding: 0.15em 0.3em; margin: 0 0.2em; line-height: 2.2;\n",
       "            border-radius: 0.25em; box-decoration-break: clone; -webkit-box-decoration-break: clone\">\n",
       "                some\n",
       "            </mark>\n",
       "            \n",
       "            <mark class=\"entity\" style=\"background: #fffafa; padding: 0.15em 0.3em; margin: 0 0.2em; line-height: 2.2;\n",
       "            border-radius: 0.25em; box-decoration-break: clone; -webkit-box-decoration-break: clone\">\n",
       "                genuine\n",
       "            </mark>\n",
       "            \n",
       "            <mark class=\"entity\" style=\"background: #fefeff; padding: 0.15em 0.3em; margin: 0 0.2em; line-height: 2.2;\n",
       "            border-radius: 0.25em; box-decoration-break: clone; -webkit-box-decoration-break: clone\">\n",
       "                star\n",
       "            </mark>\n",
       "            \n",
       "            <mark class=\"entity\" style=\"background: #fff1f1; padding: 0.15em 0.3em; margin: 0 0.2em; line-height: 2.2;\n",
       "            border-radius: 0.25em; box-decoration-break: clone; -webkit-box-decoration-break: clone\">\n",
       "                dust\n",
       "            </mark>\n",
       "            \n",
       "            <mark class=\"entity\" style=\"background: #ffdddd; padding: 0.15em 0.3em; margin: 0 0.2em; line-height: 2.2;\n",
       "            border-radius: 0.25em; box-decoration-break: clone; -webkit-box-decoration-break: clone\">\n",
       "                back\n",
       "            </mark>\n",
       "            \n",
       "            <mark class=\"entity\" style=\"background: #fffbfb; padding: 0.15em 0.3em; margin: 0 0.2em; line-height: 2.2;\n",
       "            border-radius: 0.25em; box-decoration-break: clone; -webkit-box-decoration-break: clone\">\n",
       "                to\n",
       "            </mark>\n",
       "            \n",
       "            <mark class=\"entity\" style=\"background: #ffe1e1; padding: 0.15em 0.3em; margin: 0 0.2em; line-height: 2.2;\n",
       "            border-radius: 0.25em; box-decoration-break: clone; -webkit-box-decoration-break: clone\">\n",
       "                earth\n",
       "            </mark>\n",
       "            \n",
       "            <mark class=\"entity\" style=\"background: #fffafa; padding: 0.15em 0.3em; margin: 0 0.2em; line-height: 2.2;\n",
       "            border-radius: 0.25em; box-decoration-break: clone; -webkit-box-decoration-break: clone\">\n",
       "                is\n",
       "            </mark>\n",
       "            \n",
       "            <mark class=\"entity\" style=\"background: #fdfdff; padding: 0.15em 0.3em; margin: 0 0.2em; line-height: 2.2;\n",
       "            border-radius: 0.25em; box-decoration-break: clone; -webkit-box-decoration-break: clone\">\n",
       "                set\n",
       "            </mark>\n",
       "            \n",
       "            <mark class=\"entity\" style=\"background: #fffafa; padding: 0.15em 0.3em; margin: 0 0.2em; line-height: 2.2;\n",
       "            border-radius: 0.25em; box-decoration-break: clone; -webkit-box-decoration-break: clone\">\n",
       "                for\n",
       "            </mark>\n",
       "            \n",
       "            <mark class=\"entity\" style=\"background: #ff9898; padding: 0.15em 0.3em; margin: 0 0.2em; line-height: 2.2;\n",
       "            border-radius: 0.25em; box-decoration-break: clone; -webkit-box-decoration-break: clone\">\n",
       "                a\n",
       "            </mark>\n",
       "            \n",
       "            <mark class=\"entity\" style=\"background: #f9f9ff; padding: 0.15em 0.3em; margin: 0 0.2em; line-height: 2.2;\n",
       "            border-radius: 0.25em; box-decoration-break: clone; -webkit-box-decoration-break: clone\">\n",
       "                dramatic\n",
       "            </mark>\n",
       "            \n",
       "            <mark class=\"entity\" style=\"background: #f8f8ff; padding: 0.15em 0.3em; margin: 0 0.2em; line-height: 2.2;\n",
       "            border-radius: 0.25em; box-decoration-break: clone; -webkit-box-decoration-break: clone\">\n",
       "                finale\n",
       "            </mark>\n",
       "            \n",
       "            <mark class=\"entity\" style=\"background: #f6f6ff; padding: 0.15em 0.3em; margin: 0 0.2em; line-height: 2.2;\n",
       "            border-radius: 0.25em; box-decoration-break: clone; -webkit-box-decoration-break: clone\">\n",
       "                sept\n",
       "            </mark>\n",
       "            \n",
       "            <mark class=\"entity\" style=\"background: #e0e0ff; padding: 0.15em 0.3em; margin: 0 0.2em; line-height: 2.2;\n",
       "            border-radius: 0.25em; box-decoration-break: clone; -webkit-box-decoration-break: clone\">\n",
       "                .\n",
       "            </mark>\n",
       "            \n",
       "            <mark class=\"entity\" style=\"background: #cdcdff; padding: 0.15em 0.3em; margin: 0 0.2em; line-height: 2.2;\n",
       "            border-radius: 0.25em; box-decoration-break: clone; -webkit-box-decoration-break: clone\">\n",
       "                8\n",
       "            </mark>\n",
       "            \n",
       "            <mark class=\"entity\" style=\"background: #dcdcff; padding: 0.15em 0.3em; margin: 0 0.2em; line-height: 2.2;\n",
       "            border-radius: 0.25em; box-decoration-break: clone; -webkit-box-decoration-break: clone\">\n",
       "                when\n",
       "            </mark>\n",
       "            \n",
       "            <mark class=\"entity\" style=\"background: #ffeeee; padding: 0.15em 0.3em; margin: 0 0.2em; line-height: 2.2;\n",
       "            border-radius: 0.25em; box-decoration-break: clone; -webkit-box-decoration-break: clone\">\n",
       "                hollywood\n",
       "            </mark>\n",
       "            \n",
       "            <mark class=\"entity\" style=\"background: #fbfbff; padding: 0.15em 0.3em; margin: 0 0.2em; line-height: 2.2;\n",
       "            border-radius: 0.25em; box-decoration-break: clone; -webkit-box-decoration-break: clone\">\n",
       "                helicopter\n",
       "            </mark>\n",
       "            \n",
       "            <mark class=\"entity\" style=\"background: #fff9f9; padding: 0.15em 0.3em; margin: 0 0.2em; line-height: 2.2;\n",
       "            border-radius: 0.25em; box-decoration-break: clone; -webkit-box-decoration-break: clone\">\n",
       "                pilots\n",
       "            </mark>\n",
       "            \n",
       "            <mark class=\"entity\" style=\"background: #ffd8d8; padding: 0.15em 0.3em; margin: 0 0.2em; line-height: 2.2;\n",
       "            border-radius: 0.25em; box-decoration-break: clone; -webkit-box-decoration-break: clone\">\n",
       "                will\n",
       "            </mark>\n",
       "            \n",
       "            <mark class=\"entity\" style=\"background: #ffd5d5; padding: 0.15em 0.3em; margin: 0 0.2em; line-height: 2.2;\n",
       "            border-radius: 0.25em; box-decoration-break: clone; -webkit-box-decoration-break: clone\">\n",
       "                attempt\n",
       "            </mark>\n",
       "            \n",
       "            <mark class=\"entity\" style=\"background: #9e9eff; padding: 0.15em 0.3em; margin: 0 0.2em; line-height: 2.2;\n",
       "            border-radius: 0.25em; box-decoration-break: clone; -webkit-box-decoration-break: clone\">\n",
       "                a\n",
       "            </mark>\n",
       "            \n",
       "            <mark class=\"entity\" style=\"background: #ffecec; padding: 0.15em 0.3em; margin: 0 0.2em; line-height: 2.2;\n",
       "            border-radius: 0.25em; box-decoration-break: clone; -webkit-box-decoration-break: clone\">\n",
       "                midair\n",
       "            </mark>\n",
       "            \n",
       "            <mark class=\"entity\" style=\"background: #fbfbff; padding: 0.15em 0.3em; margin: 0 0.2em; line-height: 2.2;\n",
       "            border-radius: 0.25em; box-decoration-break: clone; -webkit-box-decoration-break: clone\">\n",
       "                retrieval\n",
       "            </mark>\n",
       "            \n",
       "            <mark class=\"entity\" style=\"background: #ffffff; padding: 0.15em 0.3em; margin: 0 0.2em; line-height: 2.2;\n",
       "            border-radius: 0.25em; box-decoration-break: clone; -webkit-box-decoration-break: clone\">\n",
       "                [SEP]\n",
       "            </mark>\n",
       "            </div></span>"
      ],
      "text/plain": [
       "<IPython.core.display.HTML object>"
      ]
     },
     "metadata": {},
     "output_type": "display_data"
    }
   ],
   "source": [
    "example.render()"
   ]
  },
  {
   "cell_type": "markdown",
   "metadata": {},
   "source": [
    "# Aggregate data\n",
    "Let us first compare the heatmaps of two different models on the same dataset+explainer configuration, MNLI + Occlusion."
   ]
  },
  {
   "cell_type": "code",
   "execution_count": 9,
   "metadata": {},
   "outputs": [
    {
     "name": "stderr",
     "output_type": "stream",
     "text": [
      "Reusing dataset thermostat (C:\\Users\\49176\\.cache\\huggingface\\datasets\\thermostat\\ag_news-bert-lime-100\\1.0.1\\0cbe93e1fbe5b8ed0217559442d8b49a80fd4c2787185f2d7940817c67d8707b)\n"
     ]
    },
    {
     "name": "stdout",
     "output_type": "stream",
     "text": [
      "Loading Thermostat configuration: ag_news-bert-lime-100\n",
      "Loading Thermostat configuration: ag_news-albert-lime-100\n",
      "Downloading and preparing dataset thermostat/ag_news-albert-lime-100 to C:\\Users\\49176\\.cache\\huggingface\\datasets\\thermostat\\ag_news-albert-lime-100\\1.0.1\\0cbe93e1fbe5b8ed0217559442d8b49a80fd4c2787185f2d7940817c67d8707b...\n"
     ]
    },
    {
     "data": {
      "application/vnd.jupyter.widget-view+json": {
       "model_id": "7a021e814a2c41f593b14d535b31c96b",
       "version_major": 2,
       "version_minor": 0
      },
      "text/plain": [
       "Downloading:   0%|          | 0.00/48.3M [00:00<?, ?B/s]"
      ]
     },
     "metadata": {},
     "output_type": "display_data"
    },
    {
     "data": {
      "application/vnd.jupyter.widget-view+json": {
       "model_id": "",
       "version_major": 2,
       "version_minor": 0
      },
      "text/plain": [
       "0 examples [00:00, ? examples/s]"
      ]
     },
     "metadata": {},
     "output_type": "display_data"
    },
    {
     "name": "stdout",
     "output_type": "stream",
     "text": [
      "Dataset thermostat downloaded and prepared to C:\\Users\\49176\\.cache\\huggingface\\datasets\\thermostat\\ag_news-albert-lime-100\\1.0.1\\0cbe93e1fbe5b8ed0217559442d8b49a80fd4c2787185f2d7940817c67d8707b. Subsequent calls will reuse this data.\n"
     ]
    }
   ],
   "source": [
    "bert = thermostat.load(\"ag_news-bert-lime-100\")\n",
    "electra = thermostat.load(\"ag_news-albert-lime-100\")"
   ]
  },
  {
   "cell_type": "markdown",
   "metadata": {},
   "source": [
    "Now let's build a list of instances for which the predicted labels of BERT and ELECTRA do not align:"
   ]
  },
  {
   "cell_type": "code",
   "execution_count": 10,
   "metadata": {},
   "outputs": [
    {
     "data": {
      "application/vnd.jupyter.widget-view+json": {
       "model_id": "8746d6cebcf64467a75e6772806fc29d",
       "version_major": 2,
       "version_minor": 0
      },
      "text/plain": [
       "Downloading:   0%|          | 0.00/25.0 [00:00<?, ?B/s]"
      ]
     },
     "metadata": {},
     "output_type": "display_data"
    },
    {
     "data": {
      "application/vnd.jupyter.widget-view+json": {
       "model_id": "175b2862f22748beaf69da4a31fd7dbe",
       "version_major": 2,
       "version_minor": 0
      },
      "text/plain": [
       "Downloading:   0%|          | 0.00/922 [00:00<?, ?B/s]"
      ]
     },
     "metadata": {},
     "output_type": "display_data"
    },
    {
     "data": {
      "application/vnd.jupyter.widget-view+json": {
       "model_id": "137101c2fbf94c519bd85fd620ebf42a",
       "version_major": 2,
       "version_minor": 0
      },
      "text/plain": [
       "Downloading:   0%|          | 0.00/742k [00:00<?, ?B/s]"
      ]
     },
     "metadata": {},
     "output_type": "display_data"
    },
    {
     "data": {
      "application/vnd.jupyter.widget-view+json": {
       "model_id": "f2d1f44c40d34e7f99533db2a61bf553",
       "version_major": 2,
       "version_minor": 0
      },
      "text/plain": [
       "Downloading:   0%|          | 0.00/156 [00:00<?, ?B/s]"
      ]
     },
     "metadata": {},
     "output_type": "display_data"
    }
   ],
   "source": [
    "disagreement = [(b, e) for (b, e) in zip(bert, electra) if b.predicted_label != e.predicted_label]"
   ]
  },
  {
   "cell_type": "markdown",
   "metadata": {},
   "source": [
    "We choose one instance (index: 51) and render both heatmaps:"
   ]
  },
  {
   "cell_type": "code",
   "execution_count": 11,
   "metadata": {},
   "outputs": [
    {
     "name": "stdout",
     "output_type": "stream",
     "text": [
      "Instance index: 1513\n",
      "Model: textattack/bert-base-uncased-ag-news | Pred: Sci/Tech | True: Sci/Tech\n"
     ]
    },
    {
     "data": {
      "text/html": [
       "<span class=\"tex2jax_ignore\"><div class=\"entities\" style=\"line-height: 2.5; direction: ltr\">\n",
       "            <mark class=\"entity\" style=\"background: #ffffff; padding: 0.15em 0.3em; margin: 0 0.2em; line-height: 2.2;\n",
       "            border-radius: 0.25em; box-decoration-break: clone; -webkit-box-decoration-break: clone\">\n",
       "                [CLS]\n",
       "            </mark>\n",
       "            \n",
       "            <mark class=\"entity\" style=\"background: #ffeaea; padding: 0.15em 0.3em; margin: 0 0.2em; line-height: 2.2;\n",
       "            border-radius: 0.25em; box-decoration-break: clone; -webkit-box-decoration-break: clone\">\n",
       "                california\n",
       "            </mark>\n",
       "            \n",
       "            <mark class=\"entity\" style=\"background: #8686ff; padding: 0.15em 0.3em; margin: 0 0.2em; line-height: 2.2;\n",
       "            border-radius: 0.25em; box-decoration-break: clone; -webkit-box-decoration-break: clone\">\n",
       "                group\n",
       "            </mark>\n",
       "            \n",
       "            <mark class=\"entity\" style=\"background: #ffe9e9; padding: 0.15em 0.3em; margin: 0 0.2em; line-height: 2.2;\n",
       "            border-radius: 0.25em; box-decoration-break: clone; -webkit-box-decoration-break: clone\">\n",
       "                sues\n",
       "            </mark>\n",
       "            \n",
       "            <mark class=\"entity\" style=\"background: #e4e4ff; padding: 0.15em 0.3em; margin: 0 0.2em; line-height: 2.2;\n",
       "            border-radius: 0.25em; box-decoration-break: clone; -webkit-box-decoration-break: clone\">\n",
       "                albertson\n",
       "            </mark>\n",
       "            \n",
       "            <mark class=\"entity\" style=\"background: #ffb2b2; padding: 0.15em 0.3em; margin: 0 0.2em; line-height: 2.2;\n",
       "            border-radius: 0.25em; box-decoration-break: clone; -webkit-box-decoration-break: clone\">\n",
       "                '\n",
       "            </mark>\n",
       "            \n",
       "            <mark class=\"entity\" style=\"background: #f4f4ff; padding: 0.15em 0.3em; margin: 0 0.2em; line-height: 2.2;\n",
       "            border-radius: 0.25em; box-decoration-break: clone; -webkit-box-decoration-break: clone\">\n",
       "                s\n",
       "            </mark>\n",
       "            \n",
       "            <mark class=\"entity\" style=\"background: #d6d6ff; padding: 0.15em 0.3em; margin: 0 0.2em; line-height: 2.2;\n",
       "            border-radius: 0.25em; box-decoration-break: clone; -webkit-box-decoration-break: clone\">\n",
       "                over\n",
       "            </mark>\n",
       "            \n",
       "            <mark class=\"entity\" style=\"background: #fff9f9; padding: 0.15em 0.3em; margin: 0 0.2em; line-height: 2.2;\n",
       "            border-radius: 0.25em; box-decoration-break: clone; -webkit-box-decoration-break: clone\">\n",
       "                privacy\n",
       "            </mark>\n",
       "            \n",
       "            <mark class=\"entity\" style=\"background: #ffe4e4; padding: 0.15em 0.3em; margin: 0 0.2em; line-height: 2.2;\n",
       "            border-radius: 0.25em; box-decoration-break: clone; -webkit-box-decoration-break: clone\">\n",
       "                concerns\n",
       "            </mark>\n",
       "            \n",
       "            <mark class=\"entity\" style=\"background: #0000ff; padding: 0.15em 0.3em; margin: 0 0.2em; line-height: 2.2;\n",
       "            border-radius: 0.25em; box-decoration-break: clone; -webkit-box-decoration-break: clone\">\n",
       "                a\n",
       "            </mark>\n",
       "            \n",
       "            <mark class=\"entity\" style=\"background: #fff1f1; padding: 0.15em 0.3em; margin: 0 0.2em; line-height: 2.2;\n",
       "            border-radius: 0.25em; box-decoration-break: clone; -webkit-box-decoration-break: clone\">\n",
       "                california\n",
       "            </mark>\n",
       "            \n",
       "            <mark class=\"entity\" style=\"background: #aaaaff; padding: 0.15em 0.3em; margin: 0 0.2em; line-height: 2.2;\n",
       "            border-radius: 0.25em; box-decoration-break: clone; -webkit-box-decoration-break: clone\">\n",
       "                -\n",
       "            </mark>\n",
       "            \n",
       "            <mark class=\"entity\" style=\"background: #ff9999; padding: 0.15em 0.3em; margin: 0 0.2em; line-height: 2.2;\n",
       "            border-radius: 0.25em; box-decoration-break: clone; -webkit-box-decoration-break: clone\">\n",
       "                based\n",
       "            </mark>\n",
       "            \n",
       "            <mark class=\"entity\" style=\"background: #ffdddd; padding: 0.15em 0.3em; margin: 0 0.2em; line-height: 2.2;\n",
       "            border-radius: 0.25em; box-decoration-break: clone; -webkit-box-decoration-break: clone\">\n",
       "                privacy\n",
       "            </mark>\n",
       "            \n",
       "            <mark class=\"entity\" style=\"background: #f6f6ff; padding: 0.15em 0.3em; margin: 0 0.2em; line-height: 2.2;\n",
       "            border-radius: 0.25em; box-decoration-break: clone; -webkit-box-decoration-break: clone\">\n",
       "                advocacy\n",
       "            </mark>\n",
       "            \n",
       "            <mark class=\"entity\" style=\"background: #ffd6d6; padding: 0.15em 0.3em; margin: 0 0.2em; line-height: 2.2;\n",
       "            border-radius: 0.25em; box-decoration-break: clone; -webkit-box-decoration-break: clone\">\n",
       "                group\n",
       "            </mark>\n",
       "            \n",
       "            <mark class=\"entity\" style=\"background: #e9e9ff; padding: 0.15em 0.3em; margin: 0 0.2em; line-height: 2.2;\n",
       "            border-radius: 0.25em; box-decoration-break: clone; -webkit-box-decoration-break: clone\">\n",
       "                is\n",
       "            </mark>\n",
       "            \n",
       "            <mark class=\"entity\" style=\"background: #f8f8ff; padding: 0.15em 0.3em; margin: 0 0.2em; line-height: 2.2;\n",
       "            border-radius: 0.25em; box-decoration-break: clone; -webkit-box-decoration-break: clone\">\n",
       "                suing\n",
       "            </mark>\n",
       "            \n",
       "            <mark class=\"entity\" style=\"background: #e4e4ff; padding: 0.15em 0.3em; margin: 0 0.2em; line-height: 2.2;\n",
       "            border-radius: 0.25em; box-decoration-break: clone; -webkit-box-decoration-break: clone\">\n",
       "                supermarket\n",
       "            </mark>\n",
       "            \n",
       "            <mark class=\"entity\" style=\"background: #ffc8c8; padding: 0.15em 0.3em; margin: 0 0.2em; line-height: 2.2;\n",
       "            border-radius: 0.25em; box-decoration-break: clone; -webkit-box-decoration-break: clone\">\n",
       "                giant\n",
       "            </mark>\n",
       "            \n",
       "            <mark class=\"entity\" style=\"background: #e4e4ff; padding: 0.15em 0.3em; margin: 0 0.2em; line-height: 2.2;\n",
       "            border-radius: 0.25em; box-decoration-break: clone; -webkit-box-decoration-break: clone\">\n",
       "                albertson\n",
       "            </mark>\n",
       "            \n",
       "            <mark class=\"entity\" style=\"background: #ffdada; padding: 0.15em 0.3em; margin: 0 0.2em; line-height: 2.2;\n",
       "            border-radius: 0.25em; box-decoration-break: clone; -webkit-box-decoration-break: clone\">\n",
       "                '\n",
       "            </mark>\n",
       "            \n",
       "            <mark class=\"entity\" style=\"background: #c8c8ff; padding: 0.15em 0.3em; margin: 0 0.2em; line-height: 2.2;\n",
       "            border-radius: 0.25em; box-decoration-break: clone; -webkit-box-decoration-break: clone\">\n",
       "                s\n",
       "            </mark>\n",
       "            \n",
       "            <mark class=\"entity\" style=\"background: #cbcbff; padding: 0.15em 0.3em; margin: 0 0.2em; line-height: 2.2;\n",
       "            border-radius: 0.25em; box-decoration-break: clone; -webkit-box-decoration-break: clone\">\n",
       "                over\n",
       "            </mark>\n",
       "            \n",
       "            <mark class=\"entity\" style=\"background: #e6e6ff; padding: 0.15em 0.3em; margin: 0 0.2em; line-height: 2.2;\n",
       "            border-radius: 0.25em; box-decoration-break: clone; -webkit-box-decoration-break: clone\">\n",
       "                alleged\n",
       "            </mark>\n",
       "            \n",
       "            <mark class=\"entity\" style=\"background: #ffe5e5; padding: 0.15em 0.3em; margin: 0 0.2em; line-height: 2.2;\n",
       "            border-radius: 0.25em; box-decoration-break: clone; -webkit-box-decoration-break: clone\">\n",
       "                privacy\n",
       "            </mark>\n",
       "            \n",
       "            <mark class=\"entity\" style=\"background: #f5f5ff; padding: 0.15em 0.3em; margin: 0 0.2em; line-height: 2.2;\n",
       "            border-radius: 0.25em; box-decoration-break: clone; -webkit-box-decoration-break: clone\">\n",
       "                violations\n",
       "            </mark>\n",
       "            \n",
       "            <mark class=\"entity\" style=\"background: #e8e8ff; padding: 0.15em 0.3em; margin: 0 0.2em; line-height: 2.2;\n",
       "            border-radius: 0.25em; box-decoration-break: clone; -webkit-box-decoration-break: clone\">\n",
       "                involving\n",
       "            </mark>\n",
       "            \n",
       "            <mark class=\"entity\" style=\"background: #ffe9e9; padding: 0.15em 0.3em; margin: 0 0.2em; line-height: 2.2;\n",
       "            border-radius: 0.25em; box-decoration-break: clone; -webkit-box-decoration-break: clone\">\n",
       "                its\n",
       "            </mark>\n",
       "            \n",
       "            <mark class=\"entity\" style=\"background: #f5f5ff; padding: 0.15em 0.3em; margin: 0 0.2em; line-height: 2.2;\n",
       "            border-radius: 0.25em; box-decoration-break: clone; -webkit-box-decoration-break: clone\">\n",
       "                pharmacy\n",
       "            </mark>\n",
       "            \n",
       "            <mark class=\"entity\" style=\"background: #e5e5ff; padding: 0.15em 0.3em; margin: 0 0.2em; line-height: 2.2;\n",
       "            border-radius: 0.25em; box-decoration-break: clone; -webkit-box-decoration-break: clone\">\n",
       "                customers\n",
       "            </mark>\n",
       "            \n",
       "            <mark class=\"entity\" style=\"background: #fefeff; padding: 0.15em 0.3em; margin: 0 0.2em; line-height: 2.2;\n",
       "            border-radius: 0.25em; box-decoration-break: clone; -webkit-box-decoration-break: clone\">\n",
       "                .\n",
       "            </mark>\n",
       "            \n",
       "            <mark class=\"entity\" style=\"background: #ffffff; padding: 0.15em 0.3em; margin: 0 0.2em; line-height: 2.2;\n",
       "            border-radius: 0.25em; box-decoration-break: clone; -webkit-box-decoration-break: clone\">\n",
       "                [SEP]\n",
       "            </mark>\n",
       "            </div></span>"
      ],
      "text/plain": [
       "<IPython.core.display.HTML object>"
      ]
     },
     "metadata": {},
     "output_type": "display_data"
    },
    {
     "name": "stdout",
     "output_type": "stream",
     "text": [
      "Model: textattack/albert-base-v2-ag-news | Pred: Business | True: Sci/Tech\n"
     ]
    },
    {
     "data": {
      "text/html": [
       "<span class=\"tex2jax_ignore\"><div class=\"entities\" style=\"line-height: 2.5; direction: ltr\">\n",
       "            <mark class=\"entity\" style=\"background: #fffefe; padding: 0.15em 0.3em; margin: 0 0.2em; line-height: 2.2;\n",
       "            border-radius: 0.25em; box-decoration-break: clone; -webkit-box-decoration-break: clone\">\n",
       "                [CLS]\n",
       "            </mark>\n",
       "            \n",
       "            <mark class=\"entity\" style=\"background: #fffbfb; padding: 0.15em 0.3em; margin: 0 0.2em; line-height: 2.2;\n",
       "            border-radius: 0.25em; box-decoration-break: clone; -webkit-box-decoration-break: clone\">\n",
       "                california\n",
       "            </mark>\n",
       "            \n",
       "            <mark class=\"entity\" style=\"background: #fff0f0; padding: 0.15em 0.3em; margin: 0 0.2em; line-height: 2.2;\n",
       "            border-radius: 0.25em; box-decoration-break: clone; -webkit-box-decoration-break: clone\">\n",
       "                group\n",
       "            </mark>\n",
       "            \n",
       "            <mark class=\"entity\" style=\"background: #fffcfc; padding: 0.15em 0.3em; margin: 0 0.2em; line-height: 2.2;\n",
       "            border-radius: 0.25em; box-decoration-break: clone; -webkit-box-decoration-break: clone\">\n",
       "                sues\n",
       "            </mark>\n",
       "            \n",
       "            <mark class=\"entity\" style=\"background: #ff5151; padding: 0.15em 0.3em; margin: 0 0.2em; line-height: 2.2;\n",
       "            border-radius: 0.25em; box-decoration-break: clone; -webkit-box-decoration-break: clone\">\n",
       "                albertson's\n",
       "            </mark>\n",
       "            \n",
       "            <mark class=\"entity\" style=\"background: #ffc9c9; padding: 0.15em 0.3em; margin: 0 0.2em; line-height: 2.2;\n",
       "            border-radius: 0.25em; box-decoration-break: clone; -webkit-box-decoration-break: clone\">\n",
       "                over\n",
       "            </mark>\n",
       "            \n",
       "            <mark class=\"entity\" style=\"background: #fffefe; padding: 0.15em 0.3em; margin: 0 0.2em; line-height: 2.2;\n",
       "            border-radius: 0.25em; box-decoration-break: clone; -webkit-box-decoration-break: clone\">\n",
       "                privacy\n",
       "            </mark>\n",
       "            \n",
       "            <mark class=\"entity\" style=\"background: #fffefe; padding: 0.15em 0.3em; margin: 0 0.2em; line-height: 2.2;\n",
       "            border-radius: 0.25em; box-decoration-break: clone; -webkit-box-decoration-break: clone\">\n",
       "                concerns\n",
       "            </mark>\n",
       "            \n",
       "            <mark class=\"entity\" style=\"background: #ff9f9f; padding: 0.15em 0.3em; margin: 0 0.2em; line-height: 2.2;\n",
       "            border-radius: 0.25em; box-decoration-break: clone; -webkit-box-decoration-break: clone\">\n",
       "                a\n",
       "            </mark>\n",
       "            \n",
       "            <mark class=\"entity\" style=\"background: #ff0000; padding: 0.15em 0.3em; margin: 0 0.2em; line-height: 2.2;\n",
       "            border-radius: 0.25em; box-decoration-break: clone; -webkit-box-decoration-break: clone\">\n",
       "                california-based\n",
       "            </mark>\n",
       "            \n",
       "            <mark class=\"entity\" style=\"background: #fffefe; padding: 0.15em 0.3em; margin: 0 0.2em; line-height: 2.2;\n",
       "            border-radius: 0.25em; box-decoration-break: clone; -webkit-box-decoration-break: clone\">\n",
       "                privacy\n",
       "            </mark>\n",
       "            \n",
       "            <mark class=\"entity\" style=\"background: #fffefe; padding: 0.15em 0.3em; margin: 0 0.2em; line-height: 2.2;\n",
       "            border-radius: 0.25em; box-decoration-break: clone; -webkit-box-decoration-break: clone\">\n",
       "                advocacy\n",
       "            </mark>\n",
       "            \n",
       "            <mark class=\"entity\" style=\"background: #fffafa; padding: 0.15em 0.3em; margin: 0 0.2em; line-height: 2.2;\n",
       "            border-radius: 0.25em; box-decoration-break: clone; -webkit-box-decoration-break: clone\">\n",
       "                group\n",
       "            </mark>\n",
       "            \n",
       "            <mark class=\"entity\" style=\"background: #d8d8ff; padding: 0.15em 0.3em; margin: 0 0.2em; line-height: 2.2;\n",
       "            border-radius: 0.25em; box-decoration-break: clone; -webkit-box-decoration-break: clone\">\n",
       "                is\n",
       "            </mark>\n",
       "            \n",
       "            <mark class=\"entity\" style=\"background: #ffe0e0; padding: 0.15em 0.3em; margin: 0 0.2em; line-height: 2.2;\n",
       "            border-radius: 0.25em; box-decoration-break: clone; -webkit-box-decoration-break: clone\">\n",
       "                suing\n",
       "            </mark>\n",
       "            \n",
       "            <mark class=\"entity\" style=\"background: #fffefe; padding: 0.15em 0.3em; margin: 0 0.2em; line-height: 2.2;\n",
       "            border-radius: 0.25em; box-decoration-break: clone; -webkit-box-decoration-break: clone\">\n",
       "                supermarket\n",
       "            </mark>\n",
       "            \n",
       "            <mark class=\"entity\" style=\"background: #fdfdff; padding: 0.15em 0.3em; margin: 0 0.2em; line-height: 2.2;\n",
       "            border-radius: 0.25em; box-decoration-break: clone; -webkit-box-decoration-break: clone\">\n",
       "                giant\n",
       "            </mark>\n",
       "            \n",
       "            <mark class=\"entity\" style=\"background: #2c2cff; padding: 0.15em 0.3em; margin: 0 0.2em; line-height: 2.2;\n",
       "            border-radius: 0.25em; box-decoration-break: clone; -webkit-box-decoration-break: clone\">\n",
       "                albertson's\n",
       "            </mark>\n",
       "            \n",
       "            <mark class=\"entity\" style=\"background: #ffb0b0; padding: 0.15em 0.3em; margin: 0 0.2em; line-height: 2.2;\n",
       "            border-radius: 0.25em; box-decoration-break: clone; -webkit-box-decoration-break: clone\">\n",
       "                over\n",
       "            </mark>\n",
       "            \n",
       "            <mark class=\"entity\" style=\"background: #fffefe; padding: 0.15em 0.3em; margin: 0 0.2em; line-height: 2.2;\n",
       "            border-radius: 0.25em; box-decoration-break: clone; -webkit-box-decoration-break: clone\">\n",
       "                alleged\n",
       "            </mark>\n",
       "            \n",
       "            <mark class=\"entity\" style=\"background: #fffefe; padding: 0.15em 0.3em; margin: 0 0.2em; line-height: 2.2;\n",
       "            border-radius: 0.25em; box-decoration-break: clone; -webkit-box-decoration-break: clone\">\n",
       "                privacy\n",
       "            </mark>\n",
       "            \n",
       "            <mark class=\"entity\" style=\"background: #fffefe; padding: 0.15em 0.3em; margin: 0 0.2em; line-height: 2.2;\n",
       "            border-radius: 0.25em; box-decoration-break: clone; -webkit-box-decoration-break: clone\">\n",
       "                violations\n",
       "            </mark>\n",
       "            \n",
       "            <mark class=\"entity\" style=\"background: #fefeff; padding: 0.15em 0.3em; margin: 0 0.2em; line-height: 2.2;\n",
       "            border-radius: 0.25em; box-decoration-break: clone; -webkit-box-decoration-break: clone\">\n",
       "                involving\n",
       "            </mark>\n",
       "            \n",
       "            <mark class=\"entity\" style=\"background: #ffeaea; padding: 0.15em 0.3em; margin: 0 0.2em; line-height: 2.2;\n",
       "            border-radius: 0.25em; box-decoration-break: clone; -webkit-box-decoration-break: clone\">\n",
       "                its\n",
       "            </mark>\n",
       "            \n",
       "            <mark class=\"entity\" style=\"background: #fffefe; padding: 0.15em 0.3em; margin: 0 0.2em; line-height: 2.2;\n",
       "            border-radius: 0.25em; box-decoration-break: clone; -webkit-box-decoration-break: clone\">\n",
       "                pharmacy\n",
       "            </mark>\n",
       "            \n",
       "            <mark class=\"entity\" style=\"background: #f4f4ff; padding: 0.15em 0.3em; margin: 0 0.2em; line-height: 2.2;\n",
       "            border-radius: 0.25em; box-decoration-break: clone; -webkit-box-decoration-break: clone\">\n",
       "                customers.[SEP]\n",
       "            </mark>\n",
       "            </div></span>"
      ],
      "text/plain": [
       "<IPython.core.display.HTML object>"
      ]
     },
     "metadata": {},
     "output_type": "display_data"
    }
   ],
   "source": [
    "u_b, u_e = disagreement[51]\n",
    "print(f'Instance index: {u_b.idx}')\n",
    "\n",
    "print(f'Model: {u_b.model_name} | Pred: {u_b.predicted_label} | True: {u_b.true_label}')\n",
    "u_b.render()\n",
    "print(f'Model: {u_e.model_name} | Pred: {u_e.predicted_label} | True: {u_e.true_label}')\n",
    "u_e.render()"
   ]
  },
  {
   "cell_type": "markdown",
   "metadata": {},
   "source": [
    "We observe that the Occlusion explainer does not attribute much importance to the phrase *can be lost in an instant*. This is plausible since the heatmap explains a misclassification: the maximum output activation stands for `entailment`, but the correct label is `contradiction` and the phrase certainly is a signal for `contradiction`. In contrast, in the case of ELECTRA which correctly classified the instance the signal phrase receives much higher importance scores."
   ]
  },
  {
   "cell_type": "markdown",
   "metadata": {},
   "source": [
    "### Bonus: Print classification report from sklearn\n",
    "We also added the classification report function from sklearn as a method to apply to a Thermopack."
   ]
  },
  {
   "cell_type": "code",
   "execution_count": 13,
   "metadata": {},
   "outputs": [
    {
     "name": "stdout",
     "output_type": "stream",
     "text": [
      "bert\n",
      "               precision    recall  f1-score   support\n",
      "\n",
      "contradiction       0.86      0.87      0.86      3213\n",
      "   entailment       0.89      0.85      0.87      3479\n",
      "      neutral       0.79      0.82      0.81      3123\n",
      "\n",
      "     accuracy                           0.85      9815\n",
      "    macro avg       0.85      0.85      0.85      9815\n",
      " weighted avg       0.85      0.85      0.85      9815\n",
      "\n",
      "=====================\n",
      "\n",
      "\n",
      "electra\n",
      "               precision    recall  f1-score   support\n",
      "\n",
      "   entailment       0.93      0.87      0.90      3479\n",
      "      neutral       0.83      0.87      0.85      3123\n",
      "contradiction       0.91      0.92      0.91      3213\n",
      "\n",
      "     accuracy                           0.89      9815\n",
      "    macro avg       0.89      0.89      0.89      9815\n",
      " weighted avg       0.89      0.89      0.89      9815\n",
      "\n",
      "=====================\n",
      "\n",
      "\n"
     ]
    }
   ],
   "source": [
    "for model_name, data in zip([\"bert\", \"electra\"], [bert, electra]):\n",
    "    print(model_name)\n",
    "    data.classification_report()\n",
    "    print('=====================\\n\\n')"
   ]
  },
  {
   "cell_type": "markdown",
   "metadata": {},
   "source": [
    "# Explainer comparison"
   ]
  },
  {
   "cell_type": "markdown",
   "metadata": {},
   "source": [
    "We can only compare the heatmaps between multiple explainers. For this, let us load both the MultiNLI-BERT-Occlusion dataset plus the associated LIG and LIME explainers."
   ]
  },
  {
   "cell_type": "code",
   "execution_count": 14,
   "metadata": {},
   "outputs": [
    {
     "name": "stderr",
     "output_type": "stream",
     "text": [
      "Reusing dataset thermostat (C:\\Users\\49176\\.cache\\huggingface\\datasets\\thermostat\\multi_nli-bert-occ\\1.0.1\\0cbe93e1fbe5b8ed0217559442d8b49a80fd4c2787185f2d7940817c67d8707b)\n"
     ]
    },
    {
     "name": "stdout",
     "output_type": "stream",
     "text": [
      "Loading Thermostat configuration: multi_nli-bert-occ\n",
      "Dataset path is D:\\Working Student\\repo\\thermostat\\src\\thermostat\\dataset.py\n",
      "Additional parameters for loading: {}\n",
      "Loading Thermostat configuration: multi_nli-bert-lig\n",
      "Dataset path is D:\\Working Student\\repo\\thermostat\\src\\thermostat\\dataset.py\n",
      "Additional parameters for loading: {}\n",
      "Downloading and preparing dataset thermostat/multi_nli-bert-lig to C:\\Users\\49176\\.cache\\huggingface\\datasets\\thermostat\\multi_nli-bert-lig\\1.0.1\\0cbe93e1fbe5b8ed0217559442d8b49a80fd4c2787185f2d7940817c67d8707b...\n"
     ]
    },
    {
     "data": {
      "application/vnd.jupyter.widget-view+json": {
       "model_id": "032671160c2b41f99c2683f3579196df",
       "version_major": 2,
       "version_minor": 0
      },
      "text/plain": [
       "Downloading:   0%|          | 0.00/58.5M [00:00<?, ?B/s]"
      ]
     },
     "metadata": {},
     "output_type": "display_data"
    },
    {
     "data": {
      "application/vnd.jupyter.widget-view+json": {
       "model_id": "",
       "version_major": 2,
       "version_minor": 0
      },
      "text/plain": [
       "0 examples [00:00, ? examples/s]"
      ]
     },
     "metadata": {},
     "output_type": "display_data"
    },
    {
     "name": "stdout",
     "output_type": "stream",
     "text": [
      "Dataset thermostat downloaded and prepared to C:\\Users\\49176\\.cache\\huggingface\\datasets\\thermostat\\multi_nli-bert-lig\\1.0.1\\0cbe93e1fbe5b8ed0217559442d8b49a80fd4c2787185f2d7940817c67d8707b. Subsequent calls will reuse this data.\n",
      "Loading Thermostat configuration: multi_nli-bert-lime\n",
      "Dataset path is D:\\Working Student\\repo\\thermostat\\src\\thermostat\\dataset.py\n",
      "Additional parameters for loading: {}\n",
      "Downloading and preparing dataset thermostat/multi_nli-bert-lime to C:\\Users\\49176\\.cache\\huggingface\\datasets\\thermostat\\multi_nli-bert-lime\\1.0.1\\0cbe93e1fbe5b8ed0217559442d8b49a80fd4c2787185f2d7940817c67d8707b...\n"
     ]
    },
    {
     "data": {
      "application/vnd.jupyter.widget-view+json": {
       "model_id": "419d61c9f31343c3ac6b55bf386170d9",
       "version_major": 2,
       "version_minor": 0
      },
      "text/plain": [
       "Downloading:   0%|          | 0.00/59.4M [00:00<?, ?B/s]"
      ]
     },
     "metadata": {},
     "output_type": "display_data"
    },
    {
     "data": {
      "application/vnd.jupyter.widget-view+json": {
       "model_id": "",
       "version_major": 2,
       "version_minor": 0
      },
      "text/plain": [
       "0 examples [00:00, ? examples/s]"
      ]
     },
     "metadata": {},
     "output_type": "display_data"
    },
    {
     "name": "stdout",
     "output_type": "stream",
     "text": [
      "Dataset thermostat downloaded and prepared to C:\\Users\\49176\\.cache\\huggingface\\datasets\\thermostat\\multi_nli-bert-lime\\1.0.1\\0cbe93e1fbe5b8ed0217559442d8b49a80fd4c2787185f2d7940817c67d8707b. Subsequent calls will reuse this data.\n"
     ]
    }
   ],
   "source": [
    "unit_index = 378\n",
    "u_occ = thermostat.load(\"multi_nli-bert-occ\")[unit_index]\n",
    "u_intg = thermostat.load(\"multi_nli-bert-lig\")[unit_index]\n",
    "u_lime = thermostat.load(\"multi_nli-bert-lime\")[unit_index]"
   ]
  },
  {
   "cell_type": "code",
   "execution_count": 15,
   "metadata": {
    "scrolled": true
   },
   "outputs": [
    {
     "name": "stdout",
     "output_type": "stream",
     "text": [
      "Occlusion --- same map as in previous example\n"
     ]
    },
    {
     "data": {
      "text/html": [
       "<span class=\"tex2jax_ignore\"><div class=\"entities\" style=\"line-height: 2.5; direction: ltr\">\n",
       "            <mark class=\"entity\" style=\"background: #f0f0ff; padding: 0.15em 0.3em; margin: 0 0.2em; line-height: 2.2;\n",
       "            border-radius: 0.25em; box-decoration-break: clone; -webkit-box-decoration-break: clone\">\n",
       "                [CLS]\n",
       "            </mark>\n",
       "            \n",
       "            <mark class=\"entity\" style=\"background: #e8e8ff; padding: 0.15em 0.3em; margin: 0 0.2em; line-height: 2.2;\n",
       "            border-radius: 0.25em; box-decoration-break: clone; -webkit-box-decoration-break: clone\">\n",
       "                as\n",
       "            </mark>\n",
       "            \n",
       "            <mark class=\"entity\" style=\"background: #e6e6ff; padding: 0.15em 0.3em; margin: 0 0.2em; line-height: 2.2;\n",
       "            border-radius: 0.25em; box-decoration-break: clone; -webkit-box-decoration-break: clone\">\n",
       "                recent\n",
       "            </mark>\n",
       "            \n",
       "            <mark class=\"entity\" style=\"background: #e7e7ff; padding: 0.15em 0.3em; margin: 0 0.2em; line-height: 2.2;\n",
       "            border-radius: 0.25em; box-decoration-break: clone; -webkit-box-decoration-break: clone\">\n",
       "                events\n",
       "            </mark>\n",
       "            \n",
       "            <mark class=\"entity\" style=\"background: #ffbaba; padding: 0.15em 0.3em; margin: 0 0.2em; line-height: 2.2;\n",
       "            border-radius: 0.25em; box-decoration-break: clone; -webkit-box-decoration-break: clone\">\n",
       "                illustrate\n",
       "            </mark>\n",
       "            \n",
       "            <mark class=\"entity\" style=\"background: #ff5b5b; padding: 0.15em 0.3em; margin: 0 0.2em; line-height: 2.2;\n",
       "            border-radius: 0.25em; box-decoration-break: clone; -webkit-box-decoration-break: clone\">\n",
       "                ,\n",
       "            </mark>\n",
       "            \n",
       "            <mark class=\"entity\" style=\"background: #ff0000; padding: 0.15em 0.3em; margin: 0 0.2em; line-height: 2.2;\n",
       "            border-radius: 0.25em; box-decoration-break: clone; -webkit-box-decoration-break: clone\">\n",
       "                trust\n",
       "            </mark>\n",
       "            \n",
       "            <mark class=\"entity\" style=\"background: #ff3c3c; padding: 0.15em 0.3em; margin: 0 0.2em; line-height: 2.2;\n",
       "            border-radius: 0.25em; box-decoration-break: clone; -webkit-box-decoration-break: clone\">\n",
       "                takes\n",
       "            </mark>\n",
       "            \n",
       "            <mark class=\"entity\" style=\"background: #ff6767; padding: 0.15em 0.3em; margin: 0 0.2em; line-height: 2.2;\n",
       "            border-radius: 0.25em; box-decoration-break: clone; -webkit-box-decoration-break: clone\">\n",
       "                years\n",
       "            </mark>\n",
       "            \n",
       "            <mark class=\"entity\" style=\"background: #ff9797; padding: 0.15em 0.3em; margin: 0 0.2em; line-height: 2.2;\n",
       "            border-radius: 0.25em; box-decoration-break: clone; -webkit-box-decoration-break: clone\">\n",
       "                to\n",
       "            </mark>\n",
       "            \n",
       "            <mark class=\"entity\" style=\"background: #ff9090; padding: 0.15em 0.3em; margin: 0 0.2em; line-height: 2.2;\n",
       "            border-radius: 0.25em; box-decoration-break: clone; -webkit-box-decoration-break: clone\">\n",
       "                gain\n",
       "            </mark>\n",
       "            \n",
       "            <mark class=\"entity\" style=\"background: #ffc8c8; padding: 0.15em 0.3em; margin: 0 0.2em; line-height: 2.2;\n",
       "            border-radius: 0.25em; box-decoration-break: clone; -webkit-box-decoration-break: clone\">\n",
       "                but\n",
       "            </mark>\n",
       "            \n",
       "            <mark class=\"entity\" style=\"background: #fff4f4; padding: 0.15em 0.3em; margin: 0 0.2em; line-height: 2.2;\n",
       "            border-radius: 0.25em; box-decoration-break: clone; -webkit-box-decoration-break: clone\">\n",
       "                can\n",
       "            </mark>\n",
       "            \n",
       "            <mark class=\"entity\" style=\"background: #e7e7ff; padding: 0.15em 0.3em; margin: 0 0.2em; line-height: 2.2;\n",
       "            border-radius: 0.25em; box-decoration-break: clone; -webkit-box-decoration-break: clone\">\n",
       "                be\n",
       "            </mark>\n",
       "            \n",
       "            <mark class=\"entity\" style=\"background: #f1f1ff; padding: 0.15em 0.3em; margin: 0 0.2em; line-height: 2.2;\n",
       "            border-radius: 0.25em; box-decoration-break: clone; -webkit-box-decoration-break: clone\">\n",
       "                lost\n",
       "            </mark>\n",
       "            \n",
       "            <mark class=\"entity\" style=\"background: #efefff; padding: 0.15em 0.3em; margin: 0 0.2em; line-height: 2.2;\n",
       "            border-radius: 0.25em; box-decoration-break: clone; -webkit-box-decoration-break: clone\">\n",
       "                in\n",
       "            </mark>\n",
       "            \n",
       "            <mark class=\"entity\" style=\"background: #fffafa; padding: 0.15em 0.3em; margin: 0 0.2em; line-height: 2.2;\n",
       "            border-radius: 0.25em; box-decoration-break: clone; -webkit-box-decoration-break: clone\">\n",
       "                an\n",
       "            </mark>\n",
       "            \n",
       "            <mark class=\"entity\" style=\"background: #fff1f1; padding: 0.15em 0.3em; margin: 0 0.2em; line-height: 2.2;\n",
       "            border-radius: 0.25em; box-decoration-break: clone; -webkit-box-decoration-break: clone\">\n",
       "                instant\n",
       "            </mark>\n",
       "            \n",
       "            <mark class=\"entity\" style=\"background: #ffe0e0; padding: 0.15em 0.3em; margin: 0 0.2em; line-height: 2.2;\n",
       "            border-radius: 0.25em; box-decoration-break: clone; -webkit-box-decoration-break: clone\">\n",
       "                .\n",
       "            </mark>\n",
       "            \n",
       "            <mark class=\"entity\" style=\"background: #fff8f8; padding: 0.15em 0.3em; margin: 0 0.2em; line-height: 2.2;\n",
       "            border-radius: 0.25em; box-decoration-break: clone; -webkit-box-decoration-break: clone\">\n",
       "                [SEP]\n",
       "            </mark>\n",
       "            \n",
       "            <mark class=\"entity\" style=\"background: #ffebeb; padding: 0.15em 0.3em; margin: 0 0.2em; line-height: 2.2;\n",
       "            border-radius: 0.25em; box-decoration-break: clone; -webkit-box-decoration-break: clone\">\n",
       "                trust\n",
       "            </mark>\n",
       "            \n",
       "            <mark class=\"entity\" style=\"background: #e6e6ff; padding: 0.15em 0.3em; margin: 0 0.2em; line-height: 2.2;\n",
       "            border-radius: 0.25em; box-decoration-break: clone; -webkit-box-decoration-break: clone\">\n",
       "                ,\n",
       "            </mark>\n",
       "            \n",
       "            <mark class=\"entity\" style=\"background: #ccccff; padding: 0.15em 0.3em; margin: 0 0.2em; line-height: 2.2;\n",
       "            border-radius: 0.25em; box-decoration-break: clone; -webkit-box-decoration-break: clone\">\n",
       "                once\n",
       "            </mark>\n",
       "            \n",
       "            <mark class=\"entity\" style=\"background: #7a7aff; padding: 0.15em 0.3em; margin: 0 0.2em; line-height: 2.2;\n",
       "            border-radius: 0.25em; box-decoration-break: clone; -webkit-box-decoration-break: clone\">\n",
       "                built\n",
       "            </mark>\n",
       "            \n",
       "            <mark class=\"entity\" style=\"background: #9898ff; padding: 0.15em 0.3em; margin: 0 0.2em; line-height: 2.2;\n",
       "            border-radius: 0.25em; box-decoration-break: clone; -webkit-box-decoration-break: clone\">\n",
       "                ,\n",
       "            </mark>\n",
       "            \n",
       "            <mark class=\"entity\" style=\"background: #c5c5ff; padding: 0.15em 0.3em; margin: 0 0.2em; line-height: 2.2;\n",
       "            border-radius: 0.25em; box-decoration-break: clone; -webkit-box-decoration-break: clone\">\n",
       "                is\n",
       "            </mark>\n",
       "            \n",
       "            <mark class=\"entity\" style=\"background: #ffcccc; padding: 0.15em 0.3em; margin: 0 0.2em; line-height: 2.2;\n",
       "            border-radius: 0.25em; box-decoration-break: clone; -webkit-box-decoration-break: clone\">\n",
       "                hard\n",
       "            </mark>\n",
       "            \n",
       "            <mark class=\"entity\" style=\"background: #ffc9c9; padding: 0.15em 0.3em; margin: 0 0.2em; line-height: 2.2;\n",
       "            border-radius: 0.25em; box-decoration-break: clone; -webkit-box-decoration-break: clone\">\n",
       "                to\n",
       "            </mark>\n",
       "            \n",
       "            <mark class=\"entity\" style=\"background: #ffd3d3; padding: 0.15em 0.3em; margin: 0 0.2em; line-height: 2.2;\n",
       "            border-radius: 0.25em; box-decoration-break: clone; -webkit-box-decoration-break: clone\">\n",
       "                lose\n",
       "            </mark>\n",
       "            \n",
       "            <mark class=\"entity\" style=\"background: #ffdfdf; padding: 0.15em 0.3em; margin: 0 0.2em; line-height: 2.2;\n",
       "            border-radius: 0.25em; box-decoration-break: clone; -webkit-box-decoration-break: clone\">\n",
       "                .\n",
       "            </mark>\n",
       "            \n",
       "            <mark class=\"entity\" style=\"background: #ffd7d7; padding: 0.15em 0.3em; margin: 0 0.2em; line-height: 2.2;\n",
       "            border-radius: 0.25em; box-decoration-break: clone; -webkit-box-decoration-break: clone\">\n",
       "                [SEP]\n",
       "            </mark>\n",
       "            </div></span>"
      ],
      "text/plain": [
       "<IPython.core.display.HTML object>"
      ]
     },
     "metadata": {},
     "output_type": "display_data"
    },
    {
     "name": "stdout",
     "output_type": "stream",
     "text": [
      "LayerIntegratedGradients\n"
     ]
    },
    {
     "data": {
      "text/html": [
       "<span class=\"tex2jax_ignore\"><div class=\"entities\" style=\"line-height: 2.5; direction: ltr\">\n",
       "            <mark class=\"entity\" style=\"background: #ffffff; padding: 0.15em 0.3em; margin: 0 0.2em; line-height: 2.2;\n",
       "            border-radius: 0.25em; box-decoration-break: clone; -webkit-box-decoration-break: clone\">\n",
       "                [CLS]\n",
       "            </mark>\n",
       "            \n",
       "            <mark class=\"entity\" style=\"background: #e8e8ff; padding: 0.15em 0.3em; margin: 0 0.2em; line-height: 2.2;\n",
       "            border-radius: 0.25em; box-decoration-break: clone; -webkit-box-decoration-break: clone\">\n",
       "                as\n",
       "            </mark>\n",
       "            \n",
       "            <mark class=\"entity\" style=\"background: #ffdede; padding: 0.15em 0.3em; margin: 0 0.2em; line-height: 2.2;\n",
       "            border-radius: 0.25em; box-decoration-break: clone; -webkit-box-decoration-break: clone\">\n",
       "                recent\n",
       "            </mark>\n",
       "            \n",
       "            <mark class=\"entity\" style=\"background: #ffcdcd; padding: 0.15em 0.3em; margin: 0 0.2em; line-height: 2.2;\n",
       "            border-radius: 0.25em; box-decoration-break: clone; -webkit-box-decoration-break: clone\">\n",
       "                events\n",
       "            </mark>\n",
       "            \n",
       "            <mark class=\"entity\" style=\"background: #d7d7ff; padding: 0.15em 0.3em; margin: 0 0.2em; line-height: 2.2;\n",
       "            border-radius: 0.25em; box-decoration-break: clone; -webkit-box-decoration-break: clone\">\n",
       "                illustrate\n",
       "            </mark>\n",
       "            \n",
       "            <mark class=\"entity\" style=\"background: #efefff; padding: 0.15em 0.3em; margin: 0 0.2em; line-height: 2.2;\n",
       "            border-radius: 0.25em; box-decoration-break: clone; -webkit-box-decoration-break: clone\">\n",
       "                ,\n",
       "            </mark>\n",
       "            \n",
       "            <mark class=\"entity\" style=\"background: #ff4040; padding: 0.15em 0.3em; margin: 0 0.2em; line-height: 2.2;\n",
       "            border-radius: 0.25em; box-decoration-break: clone; -webkit-box-decoration-break: clone\">\n",
       "                trust\n",
       "            </mark>\n",
       "            \n",
       "            <mark class=\"entity\" style=\"background: #dadaff; padding: 0.15em 0.3em; margin: 0 0.2em; line-height: 2.2;\n",
       "            border-radius: 0.25em; box-decoration-break: clone; -webkit-box-decoration-break: clone\">\n",
       "                takes\n",
       "            </mark>\n",
       "            \n",
       "            <mark class=\"entity\" style=\"background: #ff2525; padding: 0.15em 0.3em; margin: 0 0.2em; line-height: 2.2;\n",
       "            border-radius: 0.25em; box-decoration-break: clone; -webkit-box-decoration-break: clone\">\n",
       "                years\n",
       "            </mark>\n",
       "            \n",
       "            <mark class=\"entity\" style=\"background: #efefff; padding: 0.15em 0.3em; margin: 0 0.2em; line-height: 2.2;\n",
       "            border-radius: 0.25em; box-decoration-break: clone; -webkit-box-decoration-break: clone\">\n",
       "                to\n",
       "            </mark>\n",
       "            \n",
       "            <mark class=\"entity\" style=\"background: #c4c4ff; padding: 0.15em 0.3em; margin: 0 0.2em; line-height: 2.2;\n",
       "            border-radius: 0.25em; box-decoration-break: clone; -webkit-box-decoration-break: clone\">\n",
       "                gain\n",
       "            </mark>\n",
       "            \n",
       "            <mark class=\"entity\" style=\"background: #e8e8ff; padding: 0.15em 0.3em; margin: 0 0.2em; line-height: 2.2;\n",
       "            border-radius: 0.25em; box-decoration-break: clone; -webkit-box-decoration-break: clone\">\n",
       "                but\n",
       "            </mark>\n",
       "            \n",
       "            <mark class=\"entity\" style=\"background: #8484ff; padding: 0.15em 0.3em; margin: 0 0.2em; line-height: 2.2;\n",
       "            border-radius: 0.25em; box-decoration-break: clone; -webkit-box-decoration-break: clone\">\n",
       "                can\n",
       "            </mark>\n",
       "            \n",
       "            <mark class=\"entity\" style=\"background: #b5b5ff; padding: 0.15em 0.3em; margin: 0 0.2em; line-height: 2.2;\n",
       "            border-radius: 0.25em; box-decoration-break: clone; -webkit-box-decoration-break: clone\">\n",
       "                be\n",
       "            </mark>\n",
       "            \n",
       "            <mark class=\"entity\" style=\"background: #5353ff; padding: 0.15em 0.3em; margin: 0 0.2em; line-height: 2.2;\n",
       "            border-radius: 0.25em; box-decoration-break: clone; -webkit-box-decoration-break: clone\">\n",
       "                lost\n",
       "            </mark>\n",
       "            \n",
       "            <mark class=\"entity\" style=\"background: #eeeeff; padding: 0.15em 0.3em; margin: 0 0.2em; line-height: 2.2;\n",
       "            border-radius: 0.25em; box-decoration-break: clone; -webkit-box-decoration-break: clone\">\n",
       "                in\n",
       "            </mark>\n",
       "            \n",
       "            <mark class=\"entity\" style=\"background: #fdfdff; padding: 0.15em 0.3em; margin: 0 0.2em; line-height: 2.2;\n",
       "            border-radius: 0.25em; box-decoration-break: clone; -webkit-box-decoration-break: clone\">\n",
       "                an\n",
       "            </mark>\n",
       "            \n",
       "            <mark class=\"entity\" style=\"background: #ffacac; padding: 0.15em 0.3em; margin: 0 0.2em; line-height: 2.2;\n",
       "            border-radius: 0.25em; box-decoration-break: clone; -webkit-box-decoration-break: clone\">\n",
       "                instant\n",
       "            </mark>\n",
       "            \n",
       "            <mark class=\"entity\" style=\"background: #eaeaff; padding: 0.15em 0.3em; margin: 0 0.2em; line-height: 2.2;\n",
       "            border-radius: 0.25em; box-decoration-break: clone; -webkit-box-decoration-break: clone\">\n",
       "                .\n",
       "            </mark>\n",
       "            \n",
       "            <mark class=\"entity\" style=\"background: #ffffff; padding: 0.15em 0.3em; margin: 0 0.2em; line-height: 2.2;\n",
       "            border-radius: 0.25em; box-decoration-break: clone; -webkit-box-decoration-break: clone\">\n",
       "                [SEP]\n",
       "            </mark>\n",
       "            \n",
       "            <mark class=\"entity\" style=\"background: #ff2626; padding: 0.15em 0.3em; margin: 0 0.2em; line-height: 2.2;\n",
       "            border-radius: 0.25em; box-decoration-break: clone; -webkit-box-decoration-break: clone\">\n",
       "                trust\n",
       "            </mark>\n",
       "            \n",
       "            <mark class=\"entity\" style=\"background: #ffa9a9; padding: 0.15em 0.3em; margin: 0 0.2em; line-height: 2.2;\n",
       "            border-radius: 0.25em; box-decoration-break: clone; -webkit-box-decoration-break: clone\">\n",
       "                ,\n",
       "            </mark>\n",
       "            \n",
       "            <mark class=\"entity\" style=\"background: #ff1c1c; padding: 0.15em 0.3em; margin: 0 0.2em; line-height: 2.2;\n",
       "            border-radius: 0.25em; box-decoration-break: clone; -webkit-box-decoration-break: clone\">\n",
       "                once\n",
       "            </mark>\n",
       "            \n",
       "            <mark class=\"entity\" style=\"background: #7272ff; padding: 0.15em 0.3em; margin: 0 0.2em; line-height: 2.2;\n",
       "            border-radius: 0.25em; box-decoration-break: clone; -webkit-box-decoration-break: clone\">\n",
       "                built\n",
       "            </mark>\n",
       "            \n",
       "            <mark class=\"entity\" style=\"background: #ffb2b2; padding: 0.15em 0.3em; margin: 0 0.2em; line-height: 2.2;\n",
       "            border-radius: 0.25em; box-decoration-break: clone; -webkit-box-decoration-break: clone\">\n",
       "                ,\n",
       "            </mark>\n",
       "            \n",
       "            <mark class=\"entity\" style=\"background: #ffbcbc; padding: 0.15em 0.3em; margin: 0 0.2em; line-height: 2.2;\n",
       "            border-radius: 0.25em; box-decoration-break: clone; -webkit-box-decoration-break: clone\">\n",
       "                is\n",
       "            </mark>\n",
       "            \n",
       "            <mark class=\"entity\" style=\"background: #ffabab; padding: 0.15em 0.3em; margin: 0 0.2em; line-height: 2.2;\n",
       "            border-radius: 0.25em; box-decoration-break: clone; -webkit-box-decoration-break: clone\">\n",
       "                hard\n",
       "            </mark>\n",
       "            \n",
       "            <mark class=\"entity\" style=\"background: #ffa7a7; padding: 0.15em 0.3em; margin: 0 0.2em; line-height: 2.2;\n",
       "            border-radius: 0.25em; box-decoration-break: clone; -webkit-box-decoration-break: clone\">\n",
       "                to\n",
       "            </mark>\n",
       "            \n",
       "            <mark class=\"entity\" style=\"background: #0000ff; padding: 0.15em 0.3em; margin: 0 0.2em; line-height: 2.2;\n",
       "            border-radius: 0.25em; box-decoration-break: clone; -webkit-box-decoration-break: clone\">\n",
       "                lose\n",
       "            </mark>\n",
       "            \n",
       "            <mark class=\"entity\" style=\"background: #a1a1ff; padding: 0.15em 0.3em; margin: 0 0.2em; line-height: 2.2;\n",
       "            border-radius: 0.25em; box-decoration-break: clone; -webkit-box-decoration-break: clone\">\n",
       "                .\n",
       "            </mark>\n",
       "            \n",
       "            <mark class=\"entity\" style=\"background: #ffffff; padding: 0.15em 0.3em; margin: 0 0.2em; line-height: 2.2;\n",
       "            border-radius: 0.25em; box-decoration-break: clone; -webkit-box-decoration-break: clone\">\n",
       "                [SEP]\n",
       "            </mark>\n",
       "            </div></span>"
      ],
      "text/plain": [
       "<IPython.core.display.HTML object>"
      ]
     },
     "metadata": {},
     "output_type": "display_data"
    },
    {
     "name": "stdout",
     "output_type": "stream",
     "text": [
      "LimeBase\n"
     ]
    },
    {
     "data": {
      "text/html": [
       "<span class=\"tex2jax_ignore\"><div class=\"entities\" style=\"line-height: 2.5; direction: ltr\">\n",
       "            <mark class=\"entity\" style=\"background: #ffffff; padding: 0.15em 0.3em; margin: 0 0.2em; line-height: 2.2;\n",
       "            border-radius: 0.25em; box-decoration-break: clone; -webkit-box-decoration-break: clone\">\n",
       "                [CLS]\n",
       "            </mark>\n",
       "            \n",
       "            <mark class=\"entity\" style=\"background: #0000ff; padding: 0.15em 0.3em; margin: 0 0.2em; line-height: 2.2;\n",
       "            border-radius: 0.25em; box-decoration-break: clone; -webkit-box-decoration-break: clone\">\n",
       "                as\n",
       "            </mark>\n",
       "            \n",
       "            <mark class=\"entity\" style=\"background: #ceceff; padding: 0.15em 0.3em; margin: 0 0.2em; line-height: 2.2;\n",
       "            border-radius: 0.25em; box-decoration-break: clone; -webkit-box-decoration-break: clone\">\n",
       "                recent\n",
       "            </mark>\n",
       "            \n",
       "            <mark class=\"entity\" style=\"background: #fdfdff; padding: 0.15em 0.3em; margin: 0 0.2em; line-height: 2.2;\n",
       "            border-radius: 0.25em; box-decoration-break: clone; -webkit-box-decoration-break: clone\">\n",
       "                events\n",
       "            </mark>\n",
       "            \n",
       "            <mark class=\"entity\" style=\"background: #fff4f4; padding: 0.15em 0.3em; margin: 0 0.2em; line-height: 2.2;\n",
       "            border-radius: 0.25em; box-decoration-break: clone; -webkit-box-decoration-break: clone\">\n",
       "                illustrate\n",
       "            </mark>\n",
       "            \n",
       "            <mark class=\"entity\" style=\"background: #ffd4d4; padding: 0.15em 0.3em; margin: 0 0.2em; line-height: 2.2;\n",
       "            border-radius: 0.25em; box-decoration-break: clone; -webkit-box-decoration-break: clone\">\n",
       "                ,\n",
       "            </mark>\n",
       "            \n",
       "            <mark class=\"entity\" style=\"background: #fffbfb; padding: 0.15em 0.3em; margin: 0 0.2em; line-height: 2.2;\n",
       "            border-radius: 0.25em; box-decoration-break: clone; -webkit-box-decoration-break: clone\">\n",
       "                trust\n",
       "            </mark>\n",
       "            \n",
       "            <mark class=\"entity\" style=\"background: #ebebff; padding: 0.15em 0.3em; margin: 0 0.2em; line-height: 2.2;\n",
       "            border-radius: 0.25em; box-decoration-break: clone; -webkit-box-decoration-break: clone\">\n",
       "                takes\n",
       "            </mark>\n",
       "            \n",
       "            <mark class=\"entity\" style=\"background: #ff6868; padding: 0.15em 0.3em; margin: 0 0.2em; line-height: 2.2;\n",
       "            border-radius: 0.25em; box-decoration-break: clone; -webkit-box-decoration-break: clone\">\n",
       "                years\n",
       "            </mark>\n",
       "            \n",
       "            <mark class=\"entity\" style=\"background: #ff8484; padding: 0.15em 0.3em; margin: 0 0.2em; line-height: 2.2;\n",
       "            border-radius: 0.25em; box-decoration-break: clone; -webkit-box-decoration-break: clone\">\n",
       "                to\n",
       "            </mark>\n",
       "            \n",
       "            <mark class=\"entity\" style=\"background: #ffdfdf; padding: 0.15em 0.3em; margin: 0 0.2em; line-height: 2.2;\n",
       "            border-radius: 0.25em; box-decoration-break: clone; -webkit-box-decoration-break: clone\">\n",
       "                gain\n",
       "            </mark>\n",
       "            \n",
       "            <mark class=\"entity\" style=\"background: #c2c2ff; padding: 0.15em 0.3em; margin: 0 0.2em; line-height: 2.2;\n",
       "            border-radius: 0.25em; box-decoration-break: clone; -webkit-box-decoration-break: clone\">\n",
       "                but\n",
       "            </mark>\n",
       "            \n",
       "            <mark class=\"entity\" style=\"background: #ffe3e3; padding: 0.15em 0.3em; margin: 0 0.2em; line-height: 2.2;\n",
       "            border-radius: 0.25em; box-decoration-break: clone; -webkit-box-decoration-break: clone\">\n",
       "                can\n",
       "            </mark>\n",
       "            \n",
       "            <mark class=\"entity\" style=\"background: #aeaeff; padding: 0.15em 0.3em; margin: 0 0.2em; line-height: 2.2;\n",
       "            border-radius: 0.25em; box-decoration-break: clone; -webkit-box-decoration-break: clone\">\n",
       "                be\n",
       "            </mark>\n",
       "            \n",
       "            <mark class=\"entity\" style=\"background: #c3c3ff; padding: 0.15em 0.3em; margin: 0 0.2em; line-height: 2.2;\n",
       "            border-radius: 0.25em; box-decoration-break: clone; -webkit-box-decoration-break: clone\">\n",
       "                lost\n",
       "            </mark>\n",
       "            \n",
       "            <mark class=\"entity\" style=\"background: #ff9292; padding: 0.15em 0.3em; margin: 0 0.2em; line-height: 2.2;\n",
       "            border-radius: 0.25em; box-decoration-break: clone; -webkit-box-decoration-break: clone\">\n",
       "                in\n",
       "            </mark>\n",
       "            \n",
       "            <mark class=\"entity\" style=\"background: #ffc8c8; padding: 0.15em 0.3em; margin: 0 0.2em; line-height: 2.2;\n",
       "            border-radius: 0.25em; box-decoration-break: clone; -webkit-box-decoration-break: clone\">\n",
       "                an\n",
       "            </mark>\n",
       "            \n",
       "            <mark class=\"entity\" style=\"background: #ffe4e4; padding: 0.15em 0.3em; margin: 0 0.2em; line-height: 2.2;\n",
       "            border-radius: 0.25em; box-decoration-break: clone; -webkit-box-decoration-break: clone\">\n",
       "                instant\n",
       "            </mark>\n",
       "            \n",
       "            <mark class=\"entity\" style=\"background: #ffe0e0; padding: 0.15em 0.3em; margin: 0 0.2em; line-height: 2.2;\n",
       "            border-radius: 0.25em; box-decoration-break: clone; -webkit-box-decoration-break: clone\">\n",
       "                .\n",
       "            </mark>\n",
       "            \n",
       "            <mark class=\"entity\" style=\"background: #ffffff; padding: 0.15em 0.3em; margin: 0 0.2em; line-height: 2.2;\n",
       "            border-radius: 0.25em; box-decoration-break: clone; -webkit-box-decoration-break: clone\">\n",
       "                [SEP]\n",
       "            </mark>\n",
       "            \n",
       "            <mark class=\"entity\" style=\"background: #fff3f3; padding: 0.15em 0.3em; margin: 0 0.2em; line-height: 2.2;\n",
       "            border-radius: 0.25em; box-decoration-break: clone; -webkit-box-decoration-break: clone\">\n",
       "                trust\n",
       "            </mark>\n",
       "            \n",
       "            <mark class=\"entity\" style=\"background: #1f1fff; padding: 0.15em 0.3em; margin: 0 0.2em; line-height: 2.2;\n",
       "            border-radius: 0.25em; box-decoration-break: clone; -webkit-box-decoration-break: clone\">\n",
       "                ,\n",
       "            </mark>\n",
       "            \n",
       "            <mark class=\"entity\" style=\"background: #c4c4ff; padding: 0.15em 0.3em; margin: 0 0.2em; line-height: 2.2;\n",
       "            border-radius: 0.25em; box-decoration-break: clone; -webkit-box-decoration-break: clone\">\n",
       "                once\n",
       "            </mark>\n",
       "            \n",
       "            <mark class=\"entity\" style=\"background: #dbdbff; padding: 0.15em 0.3em; margin: 0 0.2em; line-height: 2.2;\n",
       "            border-radius: 0.25em; box-decoration-break: clone; -webkit-box-decoration-break: clone\">\n",
       "                built\n",
       "            </mark>\n",
       "            \n",
       "            <mark class=\"entity\" style=\"background: #ff5454; padding: 0.15em 0.3em; margin: 0 0.2em; line-height: 2.2;\n",
       "            border-radius: 0.25em; box-decoration-break: clone; -webkit-box-decoration-break: clone\">\n",
       "                ,\n",
       "            </mark>\n",
       "            \n",
       "            <mark class=\"entity\" style=\"background: #9d9dff; padding: 0.15em 0.3em; margin: 0 0.2em; line-height: 2.2;\n",
       "            border-radius: 0.25em; box-decoration-break: clone; -webkit-box-decoration-break: clone\">\n",
       "                is\n",
       "            </mark>\n",
       "            \n",
       "            <mark class=\"entity\" style=\"background: #ffaeae; padding: 0.15em 0.3em; margin: 0 0.2em; line-height: 2.2;\n",
       "            border-radius: 0.25em; box-decoration-break: clone; -webkit-box-decoration-break: clone\">\n",
       "                hard\n",
       "            </mark>\n",
       "            \n",
       "            <mark class=\"entity\" style=\"background: #ffbfbf; padding: 0.15em 0.3em; margin: 0 0.2em; line-height: 2.2;\n",
       "            border-radius: 0.25em; box-decoration-break: clone; -webkit-box-decoration-break: clone\">\n",
       "                to\n",
       "            </mark>\n",
       "            \n",
       "            <mark class=\"entity\" style=\"background: #fff8f8; padding: 0.15em 0.3em; margin: 0 0.2em; line-height: 2.2;\n",
       "            border-radius: 0.25em; box-decoration-break: clone; -webkit-box-decoration-break: clone\">\n",
       "                lose\n",
       "            </mark>\n",
       "            \n",
       "            <mark class=\"entity\" style=\"background: #cdcdff; padding: 0.15em 0.3em; margin: 0 0.2em; line-height: 2.2;\n",
       "            border-radius: 0.25em; box-decoration-break: clone; -webkit-box-decoration-break: clone\">\n",
       "                .\n",
       "            </mark>\n",
       "            \n",
       "            <mark class=\"entity\" style=\"background: #ffffff; padding: 0.15em 0.3em; margin: 0 0.2em; line-height: 2.2;\n",
       "            border-radius: 0.25em; box-decoration-break: clone; -webkit-box-decoration-break: clone\">\n",
       "                [SEP]\n",
       "            </mark>\n",
       "            </div></span>"
      ],
      "text/plain": [
       "<IPython.core.display.HTML object>"
      ]
     },
     "metadata": {},
     "output_type": "display_data"
    }
   ],
   "source": [
    "print(f'{u_occ.explainer_name} --- same map as in previous example')\n",
    "u_occ.render()\n",
    "print(u_intg.explainer_name)\n",
    "u_intg.render()\n",
    "print(u_lime.explainer_name)\n",
    "u_lime.render()"
   ]
  },
  {
   "cell_type": "markdown",
   "metadata": {},
   "source": [
    "# Rank correlation\n",
    "A far more interesting, empirical investigation is how well two explainers on the same dataset+model combination correlate regarding their attribution scores."
   ]
  },
  {
   "cell_type": "code",
   "execution_count": null,
   "metadata": {},
   "outputs": [],
   "source": [
    "imdb_lime = thermostat.load(\"imdb-bert-lime\")\n",
    "imdb_intg = thermostat.load(\"imdb-bert-lig\")"
   ]
  },
  {
   "cell_type": "markdown",
   "metadata": {},
   "source": [
    "After loading LIME and LIG explainers for IMDb+BERT, we import the SciPy function that calculates Kendall's tau for rank correlation of attributions.\n",
    "\n",
    "We merge all attributions to a single list via `.flatten()` which is possible, because accessing the attributions of an entire dataset (Thermopack) via the `.attributions` attribute returns a NumPy array."
   ]
  },
  {
   "cell_type": "code",
   "execution_count": 18,
   "metadata": {},
   "outputs": [
    {
     "name": "stdout",
     "output_type": "stream",
     "text": [
      "KendalltauResult(correlation=0.025657302000906455, pvalue=0.0)\n"
     ]
    }
   ],
   "source": [
    "from scipy.stats import kendalltau\n",
    "il_atts = imdb_lime.attributions.flatten()\n",
    "ig_atts = imdb_intg.attributions.flatten()\n",
    "\n",
    "kendall_imdb = kendalltau(il_atts, ig_atts)\n",
    "print(kendall_imdb)"
   ]
  },
  {
   "cell_type": "markdown",
   "metadata": {},
   "source": [
    "Let's also consider MultiNLI explanations on BERT plus LIME and LIG."
   ]
  },
  {
   "cell_type": "code",
   "execution_count": 19,
   "metadata": {},
   "outputs": [
    {
     "name": "stderr",
     "output_type": "stream",
     "text": [
      "Reusing dataset thermostat (/home/nfel/.cache/huggingface/datasets/thermostat/multi_nli-bert-lime/1.0.0/d4c1fec14831f7d2677ccb8fba33151c9fea8119c4921e647af71cb81299899f)\n"
     ]
    },
    {
     "name": "stdout",
     "output_type": "stream",
     "text": [
      "Loading Thermostat configuration: multi_nli-bert-lime\n"
     ]
    },
    {
     "name": "stderr",
     "output_type": "stream",
     "text": [
      "Reusing dataset thermostat (/home/nfel/.cache/huggingface/datasets/thermostat/multi_nli-bert-lig/1.0.0/d4c1fec14831f7d2677ccb8fba33151c9fea8119c4921e647af71cb81299899f)\n"
     ]
    },
    {
     "name": "stdout",
     "output_type": "stream",
     "text": [
      "Loading Thermostat configuration: multi_nli-bert-lig\n"
     ]
    }
   ],
   "source": [
    "mnli_lime = thermostat.load(\"multi_nli-bert-lime\")\n",
    "mnli_intg = thermostat.load(\"multi_nli-bert-lig\")"
   ]
  },
  {
   "cell_type": "code",
   "execution_count": 20,
   "metadata": {},
   "outputs": [
    {
     "name": "stdout",
     "output_type": "stream",
     "text": [
      "KendalltauResult(correlation=0.10327941961925725, pvalue=0.0)\n"
     ]
    }
   ],
   "source": [
    "ml_atts = mnli_lime.attributions.flatten()\n",
    "mg_atts = mnli_intg.attributions.flatten()\n",
    "kendall_mnli = kendalltau(ml_atts, mg_atts)\n",
    "print(kendall_mnli)"
   ]
  },
  {
   "cell_type": "markdown",
   "metadata": {},
   "source": [
    "We find that the correlation between LIG and LIME is higher for MultiNLI than it is for IMDb.\n",
    "This aligns well with the findings reported in the \"Order in the Court\" paper by Neely, Schouten et al. (2021): https://api.semanticscholar.org/CorpusID:234096057"
   ]
  }
 ],
 "metadata": {
  "kernelspec": {
   "display_name": "Python 3 (ipykernel)",
   "language": "python",
   "name": "python3"
  },
  "language_info": {
   "codemirror_mode": {
    "name": "ipython",
    "version": 3
   },
   "file_extension": ".py",
   "mimetype": "text/x-python",
   "name": "python",
   "nbconvert_exporter": "python",
   "pygments_lexer": "ipython3",
   "version": "3.9.7"
  }
 },
 "nbformat": 4,
 "nbformat_minor": 1
}
